{
 "cells": [
  {
   "cell_type": "code",
   "execution_count": 34,
   "metadata": {
    "collapsed": true
   },
   "outputs": [],
   "source": [
    "#Import some of the tools I know I will need:\n",
    "import numpy as np\n",
    "import pandas as pd\n",
    "import requests\n",
    "import zipfile\n",
    "import io\n",
    "from datetime import datetime\n",
    "import random\n",
    "import matplotlib.pyplot as plt\n",
    "import seaborn as sns\n",
    "import scipy.stats\n",
    "\n",
    "%matplotlib inline\n",
    "sns.set_context(\"poster\")\n",
    "sns.set_style(\"whitegrid\")\n"
   ]
  },
  {
   "cell_type": "markdown",
   "metadata": {},
   "source": [
    "Import data:"
   ]
  },
  {
   "cell_type": "code",
   "execution_count": 2,
   "metadata": {
    "collapsed": false
   },
   "outputs": [
    {
     "name": "stderr",
     "output_type": "stream",
     "text": [
      "/anaconda/lib/python2.7/site-packages/IPython/core/interactiveshell.py:2717: DtypeWarning: Columns (22,32,34,49,55) have mixed types. Specify dtype option on import or set low_memory=False.\n",
      "  interactivity=interactivity, compiler=compiler, result=result)\n"
     ]
    }
   ],
   "source": [
    "csv_folder = '/Users/torrie/ZillowKaggle/'\n",
    "\n",
    "properties_df = pd.read_csv(csv_folder+'properties_2016.csv')\n",
    "train_df = pd.read_csv(csv_folder+'train_2016_v2.csv')\n",
    "samplesubmission_df = pd.read_csv(csv_folder+'sample_submission.csv')\n"
   ]
  },
  {
   "cell_type": "code",
   "execution_count": 4,
   "metadata": {
    "collapsed": false
   },
   "outputs": [
    {
     "name": "stdout",
     "output_type": "stream",
     "text": [
      "(2985217, 58)\n",
      "(90275, 3)\n"
     ]
    }
   ],
   "source": [
    "print(properties_df.shape)\n"
   ]
  },
  {
   "cell_type": "markdown",
   "metadata": {},
   "source": [
    "Get info about properties_df"
   ]
  },
  {
   "cell_type": "code",
   "execution_count": 6,
   "metadata": {
    "collapsed": false
   },
   "outputs": [
    {
     "data": {
      "text/plain": [
       "Index([u'parcelid', u'airconditioningtypeid', u'architecturalstyletypeid',\n",
       "       u'basementsqft', u'bathroomcnt', u'bedroomcnt', u'buildingclasstypeid',\n",
       "       u'buildingqualitytypeid', u'calculatedbathnbr', u'decktypeid',\n",
       "       u'finishedfloor1squarefeet', u'calculatedfinishedsquarefeet',\n",
       "       u'finishedsquarefeet12', u'finishedsquarefeet13',\n",
       "       u'finishedsquarefeet15', u'finishedsquarefeet50',\n",
       "       u'finishedsquarefeet6', u'fips', u'fireplacecnt', u'fullbathcnt',\n",
       "       u'garagecarcnt', u'garagetotalsqft', u'hashottuborspa',\n",
       "       u'heatingorsystemtypeid', u'latitude', u'longitude',\n",
       "       u'lotsizesquarefeet', u'poolcnt', u'poolsizesum', u'pooltypeid10',\n",
       "       u'pooltypeid2', u'pooltypeid7', u'propertycountylandusecode',\n",
       "       u'propertylandusetypeid', u'propertyzoningdesc',\n",
       "       u'rawcensustractandblock', u'regionidcity', u'regionidcounty',\n",
       "       u'regionidneighborhood', u'regionidzip', u'roomcnt', u'storytypeid',\n",
       "       u'threequarterbathnbr', u'typeconstructiontypeid', u'unitcnt',\n",
       "       u'yardbuildingsqft17', u'yardbuildingsqft26', u'yearbuilt',\n",
       "       u'numberofstories', u'fireplaceflag', u'structuretaxvaluedollarcnt',\n",
       "       u'taxvaluedollarcnt', u'assessmentyear', u'landtaxvaluedollarcnt',\n",
       "       u'taxamount', u'taxdelinquencyflag', u'taxdelinquencyyear',\n",
       "       u'censustractandblock'],\n",
       "      dtype='object')"
      ]
     },
     "execution_count": 6,
     "metadata": {},
     "output_type": "execute_result"
    }
   ],
   "source": [
    "properties_df.columns"
   ]
  },
  {
   "cell_type": "code",
   "execution_count": 7,
   "metadata": {
    "collapsed": false
   },
   "outputs": [
    {
     "data": {
      "text/plain": [
       "parcelid                          int64\n",
       "airconditioningtypeid           float64\n",
       "architecturalstyletypeid        float64\n",
       "basementsqft                    float64\n",
       "bathroomcnt                     float64\n",
       "bedroomcnt                      float64\n",
       "buildingclasstypeid             float64\n",
       "buildingqualitytypeid           float64\n",
       "calculatedbathnbr               float64\n",
       "decktypeid                      float64\n",
       "finishedfloor1squarefeet        float64\n",
       "calculatedfinishedsquarefeet    float64\n",
       "finishedsquarefeet12            float64\n",
       "finishedsquarefeet13            float64\n",
       "finishedsquarefeet15            float64\n",
       "finishedsquarefeet50            float64\n",
       "finishedsquarefeet6             float64\n",
       "fips                            float64\n",
       "fireplacecnt                    float64\n",
       "fullbathcnt                     float64\n",
       "garagecarcnt                    float64\n",
       "garagetotalsqft                 float64\n",
       "hashottuborspa                   object\n",
       "heatingorsystemtypeid           float64\n",
       "latitude                        float64\n",
       "longitude                       float64\n",
       "lotsizesquarefeet               float64\n",
       "poolcnt                         float64\n",
       "poolsizesum                     float64\n",
       "pooltypeid10                    float64\n",
       "pooltypeid2                     float64\n",
       "pooltypeid7                     float64\n",
       "propertycountylandusecode        object\n",
       "propertylandusetypeid           float64\n",
       "propertyzoningdesc               object\n",
       "rawcensustractandblock          float64\n",
       "regionidcity                    float64\n",
       "regionidcounty                  float64\n",
       "regionidneighborhood            float64\n",
       "regionidzip                     float64\n",
       "roomcnt                         float64\n",
       "storytypeid                     float64\n",
       "threequarterbathnbr             float64\n",
       "typeconstructiontypeid          float64\n",
       "unitcnt                         float64\n",
       "yardbuildingsqft17              float64\n",
       "yardbuildingsqft26              float64\n",
       "yearbuilt                       float64\n",
       "numberofstories                 float64\n",
       "fireplaceflag                    object\n",
       "structuretaxvaluedollarcnt      float64\n",
       "taxvaluedollarcnt               float64\n",
       "assessmentyear                  float64\n",
       "landtaxvaluedollarcnt           float64\n",
       "taxamount                       float64\n",
       "taxdelinquencyflag               object\n",
       "taxdelinquencyyear              float64\n",
       "censustractandblock             float64\n",
       "dtype: object"
      ]
     },
     "execution_count": 7,
     "metadata": {},
     "output_type": "execute_result"
    }
   ],
   "source": [
    "properties_df.dtypes"
   ]
  },
  {
   "cell_type": "code",
   "execution_count": 10,
   "metadata": {
    "collapsed": false
   },
   "outputs": [
    {
     "data": {
      "text/plain": [
       "parcelid                              0\n",
       "airconditioningtypeid           2173698\n",
       "architecturalstyletypeid        2979156\n",
       "basementsqft                    2983589\n",
       "bathroomcnt                       11462\n",
       "bedroomcnt                        11450\n",
       "buildingclasstypeid             2972588\n",
       "buildingqualitytypeid           1046729\n",
       "calculatedbathnbr                128912\n",
       "decktypeid                      2968121\n",
       "finishedfloor1squarefeet        2782500\n",
       "calculatedfinishedsquarefeet      55565\n",
       "finishedsquarefeet12             276033\n",
       "finishedsquarefeet13            2977545\n",
       "finishedsquarefeet15            2794419\n",
       "finishedsquarefeet50            2782500\n",
       "finishedsquarefeet6             2963216\n",
       "fips                              11437\n",
       "fireplacecnt                    2672580\n",
       "fullbathcnt                      128912\n",
       "garagecarcnt                    2101950\n",
       "garagetotalsqft                 2101950\n",
       "hashottuborspa                  2916203\n",
       "heatingorsystemtypeid           1178816\n",
       "latitude                          11437\n",
       "longitude                         11437\n",
       "lotsizesquarefeet                276099\n",
       "poolcnt                         2467683\n",
       "poolsizesum                     2957257\n",
       "pooltypeid10                    2948278\n",
       "pooltypeid2                     2953142\n",
       "pooltypeid7                     2499758\n",
       "propertycountylandusecode         12277\n",
       "propertylandusetypeid             11437\n",
       "propertyzoningdesc              1006588\n",
       "rawcensustractandblock            11437\n",
       "regionidcity                      62845\n",
       "regionidcounty                    11437\n",
       "regionidneighborhood            1828815\n",
       "regionidzip                       13980\n",
       "roomcnt                           11475\n",
       "storytypeid                     2983593\n",
       "threequarterbathnbr             2673586\n",
       "typeconstructiontypeid          2978470\n",
       "unitcnt                         1007727\n",
       "yardbuildingsqft17              2904862\n",
       "yardbuildingsqft26              2982570\n",
       "yearbuilt                         59928\n",
       "numberofstories                 2303148\n",
       "fireplaceflag                   2980054\n",
       "structuretaxvaluedollarcnt        54982\n",
       "taxvaluedollarcnt                 42550\n",
       "assessmentyear                    11439\n",
       "landtaxvaluedollarcnt             67733\n",
       "taxamount                         31250\n",
       "taxdelinquencyflag              2928755\n",
       "taxdelinquencyyear              2928753\n",
       "censustractandblock               75126\n",
       "dtype: int64"
      ]
     },
     "execution_count": 10,
     "metadata": {},
     "output_type": "execute_result"
    }
   ],
   "source": [
    "properties_df.isnull().sum()"
   ]
  },
  {
   "cell_type": "code",
   "execution_count": 11,
   "metadata": {
    "collapsed": false
   },
   "outputs": [
    {
     "data": {
      "text/html": [
       "<div>\n",
       "<table border=\"1\" class=\"dataframe\">\n",
       "  <thead>\n",
       "    <tr style=\"text-align: right;\">\n",
       "      <th></th>\n",
       "      <th>parcelid</th>\n",
       "      <th>airconditioningtypeid</th>\n",
       "      <th>architecturalstyletypeid</th>\n",
       "      <th>basementsqft</th>\n",
       "      <th>bathroomcnt</th>\n",
       "      <th>bedroomcnt</th>\n",
       "      <th>buildingclasstypeid</th>\n",
       "      <th>buildingqualitytypeid</th>\n",
       "      <th>calculatedbathnbr</th>\n",
       "      <th>decktypeid</th>\n",
       "      <th>...</th>\n",
       "      <th>yardbuildingsqft26</th>\n",
       "      <th>yearbuilt</th>\n",
       "      <th>numberofstories</th>\n",
       "      <th>structuretaxvaluedollarcnt</th>\n",
       "      <th>taxvaluedollarcnt</th>\n",
       "      <th>assessmentyear</th>\n",
       "      <th>landtaxvaluedollarcnt</th>\n",
       "      <th>taxamount</th>\n",
       "      <th>taxdelinquencyyear</th>\n",
       "      <th>censustractandblock</th>\n",
       "    </tr>\n",
       "  </thead>\n",
       "  <tbody>\n",
       "    <tr>\n",
       "      <th>count</th>\n",
       "      <td>2.985217e+06</td>\n",
       "      <td>811519.000000</td>\n",
       "      <td>6061.000000</td>\n",
       "      <td>1628.000000</td>\n",
       "      <td>2.973755e+06</td>\n",
       "      <td>2.973767e+06</td>\n",
       "      <td>12629.000000</td>\n",
       "      <td>1.938488e+06</td>\n",
       "      <td>2.856305e+06</td>\n",
       "      <td>17096.0</td>\n",
       "      <td>...</td>\n",
       "      <td>2647.000000</td>\n",
       "      <td>2.925289e+06</td>\n",
       "      <td>682069.000000</td>\n",
       "      <td>2.930235e+06</td>\n",
       "      <td>2.942667e+06</td>\n",
       "      <td>2.973778e+06</td>\n",
       "      <td>2.917484e+06</td>\n",
       "      <td>2.953967e+06</td>\n",
       "      <td>56464.000000</td>\n",
       "      <td>2.910091e+06</td>\n",
       "    </tr>\n",
       "    <tr>\n",
       "      <th>mean</th>\n",
       "      <td>1.332586e+07</td>\n",
       "      <td>1.931166</td>\n",
       "      <td>7.202607</td>\n",
       "      <td>646.883292</td>\n",
       "      <td>2.209143e+00</td>\n",
       "      <td>3.088949e+00</td>\n",
       "      <td>3.725948</td>\n",
       "      <td>5.784787e+00</td>\n",
       "      <td>2.299263e+00</td>\n",
       "      <td>66.0</td>\n",
       "      <td>...</td>\n",
       "      <td>278.296562</td>\n",
       "      <td>1.964262e+03</td>\n",
       "      <td>1.401464</td>\n",
       "      <td>1.708836e+05</td>\n",
       "      <td>4.204790e+05</td>\n",
       "      <td>2.014999e+03</td>\n",
       "      <td>2.524780e+05</td>\n",
       "      <td>5.377607e+03</td>\n",
       "      <td>13.892409</td>\n",
       "      <td>6.048431e+13</td>\n",
       "    </tr>\n",
       "    <tr>\n",
       "      <th>std</th>\n",
       "      <td>7.909966e+06</td>\n",
       "      <td>3.148587</td>\n",
       "      <td>2.436290</td>\n",
       "      <td>538.793473</td>\n",
       "      <td>1.077754e+00</td>\n",
       "      <td>1.275859e+00</td>\n",
       "      <td>0.501700</td>\n",
       "      <td>1.805352e+00</td>\n",
       "      <td>1.000736e+00</td>\n",
       "      <td>0.0</td>\n",
       "      <td>...</td>\n",
       "      <td>369.731508</td>\n",
       "      <td>2.344132e+01</td>\n",
       "      <td>0.539076</td>\n",
       "      <td>4.020683e+05</td>\n",
       "      <td>7.263467e+05</td>\n",
       "      <td>3.683161e-02</td>\n",
       "      <td>4.450132e+05</td>\n",
       "      <td>9.183107e+03</td>\n",
       "      <td>2.581006</td>\n",
       "      <td>3.249035e+11</td>\n",
       "    </tr>\n",
       "    <tr>\n",
       "      <th>min</th>\n",
       "      <td>1.071172e+07</td>\n",
       "      <td>1.000000</td>\n",
       "      <td>2.000000</td>\n",
       "      <td>20.000000</td>\n",
       "      <td>0.000000e+00</td>\n",
       "      <td>0.000000e+00</td>\n",
       "      <td>1.000000</td>\n",
       "      <td>1.000000e+00</td>\n",
       "      <td>1.000000e+00</td>\n",
       "      <td>66.0</td>\n",
       "      <td>...</td>\n",
       "      <td>10.000000</td>\n",
       "      <td>1.801000e+03</td>\n",
       "      <td>1.000000</td>\n",
       "      <td>1.000000e+00</td>\n",
       "      <td>1.000000e+00</td>\n",
       "      <td>2.000000e+03</td>\n",
       "      <td>1.000000e+00</td>\n",
       "      <td>1.340000e+00</td>\n",
       "      <td>0.000000</td>\n",
       "      <td>-1.000000e+00</td>\n",
       "    </tr>\n",
       "    <tr>\n",
       "      <th>25%</th>\n",
       "      <td>1.164371e+07</td>\n",
       "      <td>1.000000</td>\n",
       "      <td>7.000000</td>\n",
       "      <td>272.000000</td>\n",
       "      <td>2.000000e+00</td>\n",
       "      <td>2.000000e+00</td>\n",
       "      <td>3.000000</td>\n",
       "      <td>4.000000e+00</td>\n",
       "      <td>2.000000e+00</td>\n",
       "      <td>66.0</td>\n",
       "      <td>...</td>\n",
       "      <td>96.000000</td>\n",
       "      <td>1.950000e+03</td>\n",
       "      <td>1.000000</td>\n",
       "      <td>7.480000e+04</td>\n",
       "      <td>1.796750e+05</td>\n",
       "      <td>2.015000e+03</td>\n",
       "      <td>7.483600e+04</td>\n",
       "      <td>2.461070e+03</td>\n",
       "      <td>14.000000</td>\n",
       "      <td>6.037400e+13</td>\n",
       "    </tr>\n",
       "    <tr>\n",
       "      <th>50%</th>\n",
       "      <td>1.254509e+07</td>\n",
       "      <td>1.000000</td>\n",
       "      <td>7.000000</td>\n",
       "      <td>534.000000</td>\n",
       "      <td>2.000000e+00</td>\n",
       "      <td>3.000000e+00</td>\n",
       "      <td>4.000000</td>\n",
       "      <td>7.000000e+00</td>\n",
       "      <td>2.000000e+00</td>\n",
       "      <td>66.0</td>\n",
       "      <td>...</td>\n",
       "      <td>168.000000</td>\n",
       "      <td>1.963000e+03</td>\n",
       "      <td>1.000000</td>\n",
       "      <td>1.225900e+05</td>\n",
       "      <td>3.060860e+05</td>\n",
       "      <td>2.015000e+03</td>\n",
       "      <td>1.670420e+05</td>\n",
       "      <td>3.991780e+03</td>\n",
       "      <td>14.000000</td>\n",
       "      <td>6.037572e+13</td>\n",
       "    </tr>\n",
       "    <tr>\n",
       "      <th>75%</th>\n",
       "      <td>1.409712e+07</td>\n",
       "      <td>1.000000</td>\n",
       "      <td>7.000000</td>\n",
       "      <td>847.250000</td>\n",
       "      <td>3.000000e+00</td>\n",
       "      <td>4.000000e+00</td>\n",
       "      <td>4.000000</td>\n",
       "      <td>7.000000e+00</td>\n",
       "      <td>3.000000e+00</td>\n",
       "      <td>66.0</td>\n",
       "      <td>...</td>\n",
       "      <td>320.000000</td>\n",
       "      <td>1.981000e+03</td>\n",
       "      <td>2.000000</td>\n",
       "      <td>1.968890e+05</td>\n",
       "      <td>4.880000e+05</td>\n",
       "      <td>2.015000e+03</td>\n",
       "      <td>3.069180e+05</td>\n",
       "      <td>6.201005e+03</td>\n",
       "      <td>15.000000</td>\n",
       "      <td>6.059042e+13</td>\n",
       "    </tr>\n",
       "    <tr>\n",
       "      <th>max</th>\n",
       "      <td>1.696019e+08</td>\n",
       "      <td>13.000000</td>\n",
       "      <td>27.000000</td>\n",
       "      <td>8516.000000</td>\n",
       "      <td>2.000000e+01</td>\n",
       "      <td>2.000000e+01</td>\n",
       "      <td>5.000000</td>\n",
       "      <td>1.200000e+01</td>\n",
       "      <td>2.000000e+01</td>\n",
       "      <td>66.0</td>\n",
       "      <td>...</td>\n",
       "      <td>6141.000000</td>\n",
       "      <td>2.015000e+03</td>\n",
       "      <td>41.000000</td>\n",
       "      <td>2.514860e+08</td>\n",
       "      <td>2.827860e+08</td>\n",
       "      <td>2.016000e+03</td>\n",
       "      <td>9.024622e+07</td>\n",
       "      <td>3.458861e+06</td>\n",
       "      <td>99.000000</td>\n",
       "      <td>4.830301e+14</td>\n",
       "    </tr>\n",
       "  </tbody>\n",
       "</table>\n",
       "<p>8 rows × 53 columns</p>\n",
       "</div>"
      ],
      "text/plain": [
       "           parcelid  airconditioningtypeid  architecturalstyletypeid  \\\n",
       "count  2.985217e+06          811519.000000               6061.000000   \n",
       "mean   1.332586e+07               1.931166                  7.202607   \n",
       "std    7.909966e+06               3.148587                  2.436290   \n",
       "min    1.071172e+07               1.000000                  2.000000   \n",
       "25%    1.164371e+07               1.000000                  7.000000   \n",
       "50%    1.254509e+07               1.000000                  7.000000   \n",
       "75%    1.409712e+07               1.000000                  7.000000   \n",
       "max    1.696019e+08              13.000000                 27.000000   \n",
       "\n",
       "       basementsqft   bathroomcnt    bedroomcnt  buildingclasstypeid  \\\n",
       "count   1628.000000  2.973755e+06  2.973767e+06         12629.000000   \n",
       "mean     646.883292  2.209143e+00  3.088949e+00             3.725948   \n",
       "std      538.793473  1.077754e+00  1.275859e+00             0.501700   \n",
       "min       20.000000  0.000000e+00  0.000000e+00             1.000000   \n",
       "25%      272.000000  2.000000e+00  2.000000e+00             3.000000   \n",
       "50%      534.000000  2.000000e+00  3.000000e+00             4.000000   \n",
       "75%      847.250000  3.000000e+00  4.000000e+00             4.000000   \n",
       "max     8516.000000  2.000000e+01  2.000000e+01             5.000000   \n",
       "\n",
       "       buildingqualitytypeid  calculatedbathnbr  decktypeid  \\\n",
       "count           1.938488e+06       2.856305e+06     17096.0   \n",
       "mean            5.784787e+00       2.299263e+00        66.0   \n",
       "std             1.805352e+00       1.000736e+00         0.0   \n",
       "min             1.000000e+00       1.000000e+00        66.0   \n",
       "25%             4.000000e+00       2.000000e+00        66.0   \n",
       "50%             7.000000e+00       2.000000e+00        66.0   \n",
       "75%             7.000000e+00       3.000000e+00        66.0   \n",
       "max             1.200000e+01       2.000000e+01        66.0   \n",
       "\n",
       "              ...           yardbuildingsqft26     yearbuilt  numberofstories  \\\n",
       "count         ...                  2647.000000  2.925289e+06    682069.000000   \n",
       "mean          ...                   278.296562  1.964262e+03         1.401464   \n",
       "std           ...                   369.731508  2.344132e+01         0.539076   \n",
       "min           ...                    10.000000  1.801000e+03         1.000000   \n",
       "25%           ...                    96.000000  1.950000e+03         1.000000   \n",
       "50%           ...                   168.000000  1.963000e+03         1.000000   \n",
       "75%           ...                   320.000000  1.981000e+03         2.000000   \n",
       "max           ...                  6141.000000  2.015000e+03        41.000000   \n",
       "\n",
       "       structuretaxvaluedollarcnt  taxvaluedollarcnt  assessmentyear  \\\n",
       "count                2.930235e+06       2.942667e+06    2.973778e+06   \n",
       "mean                 1.708836e+05       4.204790e+05    2.014999e+03   \n",
       "std                  4.020683e+05       7.263467e+05    3.683161e-02   \n",
       "min                  1.000000e+00       1.000000e+00    2.000000e+03   \n",
       "25%                  7.480000e+04       1.796750e+05    2.015000e+03   \n",
       "50%                  1.225900e+05       3.060860e+05    2.015000e+03   \n",
       "75%                  1.968890e+05       4.880000e+05    2.015000e+03   \n",
       "max                  2.514860e+08       2.827860e+08    2.016000e+03   \n",
       "\n",
       "       landtaxvaluedollarcnt     taxamount  taxdelinquencyyear  \\\n",
       "count           2.917484e+06  2.953967e+06        56464.000000   \n",
       "mean            2.524780e+05  5.377607e+03           13.892409   \n",
       "std             4.450132e+05  9.183107e+03            2.581006   \n",
       "min             1.000000e+00  1.340000e+00            0.000000   \n",
       "25%             7.483600e+04  2.461070e+03           14.000000   \n",
       "50%             1.670420e+05  3.991780e+03           14.000000   \n",
       "75%             3.069180e+05  6.201005e+03           15.000000   \n",
       "max             9.024622e+07  3.458861e+06           99.000000   \n",
       "\n",
       "       censustractandblock  \n",
       "count         2.910091e+06  \n",
       "mean          6.048431e+13  \n",
       "std           3.249035e+11  \n",
       "min          -1.000000e+00  \n",
       "25%           6.037400e+13  \n",
       "50%           6.037572e+13  \n",
       "75%           6.059042e+13  \n",
       "max           4.830301e+14  \n",
       "\n",
       "[8 rows x 53 columns]"
      ]
     },
     "execution_count": 11,
     "metadata": {},
     "output_type": "execute_result"
    }
   ],
   "source": [
    "properties_df.describe()"
   ]
  },
  {
   "cell_type": "code",
   "execution_count": 55,
   "metadata": {
    "collapsed": false
   },
   "outputs": [
    {
     "data": {
      "text/plain": [
       "<matplotlib.axes._subplots.AxesSubplot at 0x1218a77d0>"
      ]
     },
     "execution_count": 55,
     "metadata": {},
     "output_type": "execute_result"
    },
    {
     "data": {
      "image/png": "[encoded data removed]",
      "text/plain": [
       "<matplotlib.figure.Figure at 0x12378ce10>"
      ]
     },
     "metadata": {},
     "output_type": "display_data"
    }
   ],
   "source": [
    "\n",
    "sns.distplot(properties_df.airconditioningtypeid[properties_df.airconditioningtypeid>0], bins = 200)"
   ]
  },
  {
   "cell_type": "code",
   "execution_count": 16,
   "metadata": {
    "collapsed": false
   },
   "outputs": [
    {
     "data": {
      "text/html": [
       "<div>\n",
       "<table border=\"1\" class=\"dataframe\">\n",
       "  <thead>\n",
       "    <tr style=\"text-align: right;\">\n",
       "      <th></th>\n",
       "      <th>parcelid</th>\n",
       "      <th>airconditioningtypeid</th>\n",
       "      <th>architecturalstyletypeid</th>\n",
       "      <th>basementsqft</th>\n",
       "      <th>bathroomcnt</th>\n",
       "      <th>bedroomcnt</th>\n",
       "      <th>buildingclasstypeid</th>\n",
       "      <th>buildingqualitytypeid</th>\n",
       "      <th>calculatedbathnbr</th>\n",
       "      <th>decktypeid</th>\n",
       "      <th>...</th>\n",
       "      <th>numberofstories</th>\n",
       "      <th>fireplaceflag</th>\n",
       "      <th>structuretaxvaluedollarcnt</th>\n",
       "      <th>taxvaluedollarcnt</th>\n",
       "      <th>assessmentyear</th>\n",
       "      <th>landtaxvaluedollarcnt</th>\n",
       "      <th>taxamount</th>\n",
       "      <th>taxdelinquencyflag</th>\n",
       "      <th>taxdelinquencyyear</th>\n",
       "      <th>censustractandblock</th>\n",
       "    </tr>\n",
       "  </thead>\n",
       "  <tbody>\n",
       "    <tr>\n",
       "      <th>0</th>\n",
       "      <td>10754147</td>\n",
       "      <td>NaN</td>\n",
       "      <td>NaN</td>\n",
       "      <td>NaN</td>\n",
       "      <td>0.0</td>\n",
       "      <td>0.0</td>\n",
       "      <td>NaN</td>\n",
       "      <td>NaN</td>\n",
       "      <td>NaN</td>\n",
       "      <td>NaN</td>\n",
       "      <td>...</td>\n",
       "      <td>NaN</td>\n",
       "      <td>NaN</td>\n",
       "      <td>NaN</td>\n",
       "      <td>9.0</td>\n",
       "      <td>2015.0</td>\n",
       "      <td>9.0</td>\n",
       "      <td>NaN</td>\n",
       "      <td>NaN</td>\n",
       "      <td>NaN</td>\n",
       "      <td>NaN</td>\n",
       "    </tr>\n",
       "    <tr>\n",
       "      <th>1</th>\n",
       "      <td>10759547</td>\n",
       "      <td>NaN</td>\n",
       "      <td>NaN</td>\n",
       "      <td>NaN</td>\n",
       "      <td>0.0</td>\n",
       "      <td>0.0</td>\n",
       "      <td>NaN</td>\n",
       "      <td>NaN</td>\n",
       "      <td>NaN</td>\n",
       "      <td>NaN</td>\n",
       "      <td>...</td>\n",
       "      <td>NaN</td>\n",
       "      <td>NaN</td>\n",
       "      <td>NaN</td>\n",
       "      <td>27516.0</td>\n",
       "      <td>2015.0</td>\n",
       "      <td>27516.0</td>\n",
       "      <td>NaN</td>\n",
       "      <td>NaN</td>\n",
       "      <td>NaN</td>\n",
       "      <td>NaN</td>\n",
       "    </tr>\n",
       "    <tr>\n",
       "      <th>2</th>\n",
       "      <td>10843547</td>\n",
       "      <td>NaN</td>\n",
       "      <td>NaN</td>\n",
       "      <td>NaN</td>\n",
       "      <td>0.0</td>\n",
       "      <td>0.0</td>\n",
       "      <td>NaN</td>\n",
       "      <td>NaN</td>\n",
       "      <td>NaN</td>\n",
       "      <td>NaN</td>\n",
       "      <td>...</td>\n",
       "      <td>NaN</td>\n",
       "      <td>NaN</td>\n",
       "      <td>650756.0</td>\n",
       "      <td>1413387.0</td>\n",
       "      <td>2015.0</td>\n",
       "      <td>762631.0</td>\n",
       "      <td>20800.37</td>\n",
       "      <td>NaN</td>\n",
       "      <td>NaN</td>\n",
       "      <td>NaN</td>\n",
       "    </tr>\n",
       "  </tbody>\n",
       "</table>\n",
       "<p>3 rows × 58 columns</p>\n",
       "</div>"
      ],
      "text/plain": [
       "   parcelid  airconditioningtypeid  architecturalstyletypeid  basementsqft  \\\n",
       "0  10754147                    NaN                       NaN           NaN   \n",
       "1  10759547                    NaN                       NaN           NaN   \n",
       "2  10843547                    NaN                       NaN           NaN   \n",
       "\n",
       "   bathroomcnt  bedroomcnt  buildingclasstypeid  buildingqualitytypeid  \\\n",
       "0          0.0         0.0                  NaN                    NaN   \n",
       "1          0.0         0.0                  NaN                    NaN   \n",
       "2          0.0         0.0                  NaN                    NaN   \n",
       "\n",
       "   calculatedbathnbr  decktypeid         ...           numberofstories  \\\n",
       "0                NaN         NaN         ...                       NaN   \n",
       "1                NaN         NaN         ...                       NaN   \n",
       "2                NaN         NaN         ...                       NaN   \n",
       "\n",
       "   fireplaceflag  structuretaxvaluedollarcnt  taxvaluedollarcnt  \\\n",
       "0            NaN                         NaN                9.0   \n",
       "1            NaN                         NaN            27516.0   \n",
       "2            NaN                    650756.0          1413387.0   \n",
       "\n",
       "   assessmentyear  landtaxvaluedollarcnt  taxamount  taxdelinquencyflag  \\\n",
       "0          2015.0                    9.0        NaN                 NaN   \n",
       "1          2015.0                27516.0        NaN                 NaN   \n",
       "2          2015.0               762631.0   20800.37                 NaN   \n",
       "\n",
       "   taxdelinquencyyear  censustractandblock  \n",
       "0                 NaN                  NaN  \n",
       "1                 NaN                  NaN  \n",
       "2                 NaN                  NaN  \n",
       "\n",
       "[3 rows x 58 columns]"
      ]
     },
     "execution_count": 16,
     "metadata": {},
     "output_type": "execute_result"
    }
   ],
   "source": [
    "properties_df.head(3)"
   ]
  },
  {
   "cell_type": "markdown",
   "metadata": {},
   "source": [
    "Get info about train_df:"
   ]
  },
  {
   "cell_type": "code",
   "execution_count": 19,
   "metadata": {
    "collapsed": false
   },
   "outputs": [
    {
     "name": "stdout",
     "output_type": "stream",
     "text": [
      "(90275, 3)\n"
     ]
    }
   ],
   "source": [
    "print(train_df.shape)"
   ]
  },
  {
   "cell_type": "code",
   "execution_count": 12,
   "metadata": {
    "collapsed": false
   },
   "outputs": [
    {
     "data": {
      "text/plain": [
       "Index([u'parcelid', u'logerror', u'transactiondate'], dtype='object')"
      ]
     },
     "execution_count": 12,
     "metadata": {},
     "output_type": "execute_result"
    }
   ],
   "source": [
    "train_df.columns"
   ]
  },
  {
   "cell_type": "code",
   "execution_count": 13,
   "metadata": {
    "collapsed": false
   },
   "outputs": [
    {
     "data": {
      "text/plain": [
       "parcelid             int64\n",
       "logerror           float64\n",
       "transactiondate     object\n",
       "dtype: object"
      ]
     },
     "execution_count": 13,
     "metadata": {},
     "output_type": "execute_result"
    }
   ],
   "source": [
    "train_df.dtypes"
   ]
  },
  {
   "cell_type": "code",
   "execution_count": 15,
   "metadata": {
    "collapsed": false
   },
   "outputs": [
    {
     "data": {
      "text/html": [
       "<div>\n",
       "<table border=\"1\" class=\"dataframe\">\n",
       "  <thead>\n",
       "    <tr style=\"text-align: right;\">\n",
       "      <th></th>\n",
       "      <th>parcelid</th>\n",
       "      <th>logerror</th>\n",
       "    </tr>\n",
       "  </thead>\n",
       "  <tbody>\n",
       "    <tr>\n",
       "      <th>count</th>\n",
       "      <td>9.027500e+04</td>\n",
       "      <td>90275.000000</td>\n",
       "    </tr>\n",
       "    <tr>\n",
       "      <th>mean</th>\n",
       "      <td>1.298466e+07</td>\n",
       "      <td>0.011457</td>\n",
       "    </tr>\n",
       "    <tr>\n",
       "      <th>std</th>\n",
       "      <td>2.504510e+06</td>\n",
       "      <td>0.161079</td>\n",
       "    </tr>\n",
       "    <tr>\n",
       "      <th>min</th>\n",
       "      <td>1.071174e+07</td>\n",
       "      <td>-4.605000</td>\n",
       "    </tr>\n",
       "    <tr>\n",
       "      <th>25%</th>\n",
       "      <td>1.155950e+07</td>\n",
       "      <td>-0.025300</td>\n",
       "    </tr>\n",
       "    <tr>\n",
       "      <th>50%</th>\n",
       "      <td>1.254734e+07</td>\n",
       "      <td>0.006000</td>\n",
       "    </tr>\n",
       "    <tr>\n",
       "      <th>75%</th>\n",
       "      <td>1.422755e+07</td>\n",
       "      <td>0.039200</td>\n",
       "    </tr>\n",
       "    <tr>\n",
       "      <th>max</th>\n",
       "      <td>1.629608e+08</td>\n",
       "      <td>4.737000</td>\n",
       "    </tr>\n",
       "  </tbody>\n",
       "</table>\n",
       "</div>"
      ],
      "text/plain": [
       "           parcelid      logerror\n",
       "count  9.027500e+04  90275.000000\n",
       "mean   1.298466e+07      0.011457\n",
       "std    2.504510e+06      0.161079\n",
       "min    1.071174e+07     -4.605000\n",
       "25%    1.155950e+07     -0.025300\n",
       "50%    1.254734e+07      0.006000\n",
       "75%    1.422755e+07      0.039200\n",
       "max    1.629608e+08      4.737000"
      ]
     },
     "execution_count": 15,
     "metadata": {},
     "output_type": "execute_result"
    }
   ],
   "source": [
    "train_df.describe()"
   ]
  },
  {
   "cell_type": "code",
   "execution_count": 27,
   "metadata": {
    "collapsed": false
   },
   "outputs": [
    {
     "data": {
      "text/html": [
       "<div>\n",
       "<table border=\"1\" class=\"dataframe\">\n",
       "  <thead>\n",
       "    <tr style=\"text-align: right;\">\n",
       "      <th></th>\n",
       "      <th>parcelid</th>\n",
       "      <th>logerror</th>\n",
       "      <th>transactiondate</th>\n",
       "    </tr>\n",
       "  </thead>\n",
       "  <tbody>\n",
       "    <tr>\n",
       "      <th>0</th>\n",
       "      <td>11016594</td>\n",
       "      <td>0.0276</td>\n",
       "      <td>2016-01-01</td>\n",
       "    </tr>\n",
       "    <tr>\n",
       "      <th>1</th>\n",
       "      <td>14366692</td>\n",
       "      <td>-0.1684</td>\n",
       "      <td>2016-01-01</td>\n",
       "    </tr>\n",
       "    <tr>\n",
       "      <th>2</th>\n",
       "      <td>12098116</td>\n",
       "      <td>-0.0040</td>\n",
       "      <td>2016-01-01</td>\n",
       "    </tr>\n",
       "    <tr>\n",
       "      <th>3</th>\n",
       "      <td>12643413</td>\n",
       "      <td>0.0218</td>\n",
       "      <td>2016-01-02</td>\n",
       "    </tr>\n",
       "    <tr>\n",
       "      <th>4</th>\n",
       "      <td>14432541</td>\n",
       "      <td>-0.0050</td>\n",
       "      <td>2016-01-02</td>\n",
       "    </tr>\n",
       "  </tbody>\n",
       "</table>\n",
       "</div>"
      ],
      "text/plain": [
       "   parcelid  logerror transactiondate\n",
       "0  11016594    0.0276      2016-01-01\n",
       "1  14366692   -0.1684      2016-01-01\n",
       "2  12098116   -0.0040      2016-01-01\n",
       "3  12643413    0.0218      2016-01-02\n",
       "4  14432541   -0.0050      2016-01-02"
      ]
     },
     "execution_count": 27,
     "metadata": {},
     "output_type": "execute_result"
    }
   ],
   "source": [
    "train_df.head()"
   ]
  },
  {
   "cell_type": "markdown",
   "metadata": {},
   "source": [
    "Investigate variable we are trying to predict:"
   ]
  },
  {
   "cell_type": "code",
   "execution_count": 41,
   "metadata": {
    "collapsed": false
   },
   "outputs": [
    {
     "data": {
      "text/plain": [
       "<matplotlib.axes._subplots.AxesSubplot at 0x120704d90>"
      ]
     },
     "execution_count": 41,
     "metadata": {},
     "output_type": "execute_result"
    },
    {
     "data": {
      "image/png": "[encoded data removed]",
      "text/plain": [
       "<matplotlib.figure.Figure at 0x1206b0c90>"
      ]
     },
     "metadata": {},
     "output_type": "display_data"
    }
   ],
   "source": [
    "sns.distplot(train_df.logerror, bins = 500)"
   ]
  },
  {
   "cell_type": "code",
   "execution_count": 46,
   "metadata": {
    "collapsed": false
   },
   "outputs": [
    {
     "data": {
      "text/plain": [
       "dtype('<M8[ns]')"
      ]
     },
     "execution_count": 46,
     "metadata": {},
     "output_type": "execute_result"
    }
   ],
   "source": [
    "train_df.transactiondate.dtype"
   ]
  },
  {
   "cell_type": "code",
   "execution_count": 44,
   "metadata": {
    "collapsed": false
   },
   "outputs": [],
   "source": [
    "import datetime\n",
    "train_df.transactiondate = pd.to_datetime(train_df.transactiondate, format='%Y-%m-%d')"
   ]
  },
  {
   "cell_type": "code",
   "execution_count": 49,
   "metadata": {
    "collapsed": false
   },
   "outputs": [
    {
     "data": {
      "text/plain": [
       "[<matplotlib.lines.Line2D at 0x1234cb110>]"
      ]
     },
     "execution_count": 49,
     "metadata": {},
     "output_type": "execute_result"
    },
    {
     "data": {
      "image/png": "[encoded data removed]",
      "text/plain": [
       "<matplotlib.figure.Figure at 0x1230620d0>"
      ]
     },
     "metadata": {},
     "output_type": "display_data"
    }
   ],
   "source": [
    "plt.plot(train_df.transactiondate, train_df.logerror)"
   ]
  },
  {
   "cell_type": "code",
   "execution_count": 59,
   "metadata": {
    "collapsed": false
   },
   "outputs": [
    {
     "data": {
      "text/plain": [
       "2537435.0"
      ]
     },
     "execution_count": 59,
     "metadata": {},
     "output_type": "execute_result"
    }
   ],
   "source": [
    "import math \n",
    "math.ceil(.85*properties_df.shape[0])"
   ]
  },
  {
   "cell_type": "code",
   "execution_count": 72,
   "metadata": {
    "collapsed": false
   },
   "outputs": [],
   "source": [
    "check = [c for c in properties_df.columns if properties_df[c].isnull().sum() > math.ceil(.25*properties_df.shape[0])]\n",
    "         "
   ]
  },
  {
   "cell_type": "code",
   "execution_count": 73,
   "metadata": {
    "collapsed": false
   },
   "outputs": [
    {
     "data": {
      "text/plain": [
       "['airconditioningtypeid',\n",
       " 'architecturalstyletypeid',\n",
       " 'basementsqft',\n",
       " 'buildingclasstypeid',\n",
       " 'buildingqualitytypeid',\n",
       " 'decktypeid',\n",
       " 'finishedfloor1squarefeet',\n",
       " 'finishedsquarefeet13',\n",
       " 'finishedsquarefeet15',\n",
       " 'finishedsquarefeet50',\n",
       " 'finishedsquarefeet6',\n",
       " 'fireplacecnt',\n",
       " 'garagecarcnt',\n",
       " 'garagetotalsqft',\n",
       " 'hashottuborspa',\n",
       " 'heatingorsystemtypeid',\n",
       " 'poolcnt',\n",
       " 'poolsizesum',\n",
       " 'pooltypeid10',\n",
       " 'pooltypeid2',\n",
       " 'pooltypeid7',\n",
       " 'propertyzoningdesc',\n",
       " 'regionidneighborhood',\n",
       " 'storytypeid',\n",
       " 'threequarterbathnbr',\n",
       " 'typeconstructiontypeid',\n",
       " 'unitcnt',\n",
       " 'yardbuildingsqft17',\n",
       " 'yardbuildingsqft26',\n",
       " 'numberofstories',\n",
       " 'fireplaceflag',\n",
       " 'taxdelinquencyflag',\n",
       " 'taxdelinquencyyear']"
      ]
     },
     "execution_count": 73,
     "metadata": {},
     "output_type": "execute_result"
    }
   ],
   "source": [
    "check"
   ]
  },
  {
   "cell_type": "code",
   "execution_count": null,
   "metadata": {
    "collapsed": true
   },
   "outputs": [],
   "source": [
    "properties_df"
   ]
  },
  {
   "cell_type": "code",
   "execution_count": 64,
   "metadata": {
    "collapsed": false
   },
   "outputs": [
    {
     "data": {
      "text/plain": [
       "pandas.core.series.Series"
      ]
     },
     "execution_count": 64,
     "metadata": {},
     "output_type": "execute_result"
    }
   ],
   "source": [
    "type(check)"
   ]
  },
  {
   "cell_type": "code",
   "execution_count": 75,
   "metadata": {
    "collapsed": false
   },
   "outputs": [],
   "source": [
    "new_df = properties_df.drop(check, axis=1)"
   ]
  },
  {
   "cell_type": "code",
   "execution_count": 76,
   "metadata": {
    "collapsed": false
   },
   "outputs": [
    {
     "data": {
      "text/plain": [
       "(2985217, 25)"
      ]
     },
     "execution_count": 76,
     "metadata": {},
     "output_type": "execute_result"
    }
   ],
   "source": [
    "new_df.shape"
   ]
  },
  {
   "cell_type": "code",
   "execution_count": 77,
   "metadata": {
    "collapsed": false
   },
   "outputs": [
    {
     "data": {
      "text/plain": [
       "parcelid                             0\n",
       "bathroomcnt                      11462\n",
       "bedroomcnt                       11450\n",
       "calculatedbathnbr               128912\n",
       "calculatedfinishedsquarefeet     55565\n",
       "finishedsquarefeet12            276033\n",
       "fips                             11437\n",
       "fullbathcnt                     128912\n",
       "latitude                         11437\n",
       "longitude                        11437\n",
       "lotsizesquarefeet               276099\n",
       "propertycountylandusecode        12277\n",
       "propertylandusetypeid            11437\n",
       "rawcensustractandblock           11437\n",
       "regionidcity                     62845\n",
       "regionidcounty                   11437\n",
       "regionidzip                      13980\n",
       "roomcnt                          11475\n",
       "yearbuilt                        59928\n",
       "structuretaxvaluedollarcnt       54982\n",
       "taxvaluedollarcnt                42550\n",
       "assessmentyear                   11439\n",
       "landtaxvaluedollarcnt            67733\n",
       "taxamount                        31250\n",
       "censustractandblock              75126\n",
       "dtype: int64"
      ]
     },
     "execution_count": 77,
     "metadata": {},
     "output_type": "execute_result"
    }
   ],
   "source": [
    "new_df.isnull().sum()"
   ]
  },
  {
   "cell_type": "code",
   "execution_count": 79,
   "metadata": {
    "collapsed": false
   },
   "outputs": [
    {
     "data": {
      "text/html": [
       "<div>\n",
       "<table border=\"1\" class=\"dataframe\">\n",
       "  <thead>\n",
       "    <tr style=\"text-align: right;\">\n",
       "      <th></th>\n",
       "      <th>parcelid</th>\n",
       "      <th>bathroomcnt</th>\n",
       "      <th>bedroomcnt</th>\n",
       "      <th>calculatedbathnbr</th>\n",
       "      <th>calculatedfinishedsquarefeet</th>\n",
       "      <th>finishedsquarefeet12</th>\n",
       "      <th>fips</th>\n",
       "      <th>fullbathcnt</th>\n",
       "      <th>latitude</th>\n",
       "      <th>longitude</th>\n",
       "      <th>...</th>\n",
       "      <th>regionidcounty</th>\n",
       "      <th>regionidzip</th>\n",
       "      <th>roomcnt</th>\n",
       "      <th>yearbuilt</th>\n",
       "      <th>structuretaxvaluedollarcnt</th>\n",
       "      <th>taxvaluedollarcnt</th>\n",
       "      <th>assessmentyear</th>\n",
       "      <th>landtaxvaluedollarcnt</th>\n",
       "      <th>taxamount</th>\n",
       "      <th>censustractandblock</th>\n",
       "    </tr>\n",
       "  </thead>\n",
       "  <tbody>\n",
       "    <tr>\n",
       "      <th>count</th>\n",
       "      <td>2.985217e+06</td>\n",
       "      <td>2.973755e+06</td>\n",
       "      <td>2.973767e+06</td>\n",
       "      <td>2.856305e+06</td>\n",
       "      <td>2.929652e+06</td>\n",
       "      <td>2.709184e+06</td>\n",
       "      <td>2.973780e+06</td>\n",
       "      <td>2.856305e+06</td>\n",
       "      <td>2.973780e+06</td>\n",
       "      <td>2.973780e+06</td>\n",
       "      <td>...</td>\n",
       "      <td>2.973780e+06</td>\n",
       "      <td>2.971237e+06</td>\n",
       "      <td>2.973742e+06</td>\n",
       "      <td>2.925289e+06</td>\n",
       "      <td>2.930235e+06</td>\n",
       "      <td>2.942667e+06</td>\n",
       "      <td>2.973778e+06</td>\n",
       "      <td>2.917484e+06</td>\n",
       "      <td>2.953967e+06</td>\n",
       "      <td>2.910091e+06</td>\n",
       "    </tr>\n",
       "    <tr>\n",
       "      <th>mean</th>\n",
       "      <td>1.332586e+07</td>\n",
       "      <td>2.209143e+00</td>\n",
       "      <td>3.088949e+00</td>\n",
       "      <td>2.299263e+00</td>\n",
       "      <td>1.827162e+03</td>\n",
       "      <td>1.760001e+03</td>\n",
       "      <td>6.048032e+03</td>\n",
       "      <td>2.244165e+00</td>\n",
       "      <td>3.400147e+07</td>\n",
       "      <td>-1.182019e+08</td>\n",
       "      <td>...</td>\n",
       "      <td>2.570461e+03</td>\n",
       "      <td>9.655267e+04</td>\n",
       "      <td>1.475018e+00</td>\n",
       "      <td>1.964262e+03</td>\n",
       "      <td>1.708836e+05</td>\n",
       "      <td>4.204790e+05</td>\n",
       "      <td>2.014999e+03</td>\n",
       "      <td>2.524780e+05</td>\n",
       "      <td>5.377607e+03</td>\n",
       "      <td>6.048431e+13</td>\n",
       "    </tr>\n",
       "    <tr>\n",
       "      <th>std</th>\n",
       "      <td>7.909966e+06</td>\n",
       "      <td>1.077754e+00</td>\n",
       "      <td>1.275859e+00</td>\n",
       "      <td>1.000736e+00</td>\n",
       "      <td>1.819780e+03</td>\n",
       "      <td>9.710610e+02</td>\n",
       "      <td>2.023278e+01</td>\n",
       "      <td>9.912054e-01</td>\n",
       "      <td>2.433812e+05</td>\n",
       "      <td>3.453171e+05</td>\n",
       "      <td>...</td>\n",
       "      <td>7.880711e+02</td>\n",
       "      <td>3.673175e+03</td>\n",
       "      <td>2.840403e+00</td>\n",
       "      <td>2.344132e+01</td>\n",
       "      <td>4.020683e+05</td>\n",
       "      <td>7.263467e+05</td>\n",
       "      <td>3.683161e-02</td>\n",
       "      <td>4.450132e+05</td>\n",
       "      <td>9.183107e+03</td>\n",
       "      <td>3.249035e+11</td>\n",
       "    </tr>\n",
       "    <tr>\n",
       "      <th>min</th>\n",
       "      <td>1.071172e+07</td>\n",
       "      <td>0.000000e+00</td>\n",
       "      <td>0.000000e+00</td>\n",
       "      <td>1.000000e+00</td>\n",
       "      <td>1.000000e+00</td>\n",
       "      <td>1.000000e+00</td>\n",
       "      <td>6.037000e+03</td>\n",
       "      <td>1.000000e+00</td>\n",
       "      <td>3.332439e+07</td>\n",
       "      <td>-1.194758e+08</td>\n",
       "      <td>...</td>\n",
       "      <td>1.286000e+03</td>\n",
       "      <td>9.598200e+04</td>\n",
       "      <td>0.000000e+00</td>\n",
       "      <td>1.801000e+03</td>\n",
       "      <td>1.000000e+00</td>\n",
       "      <td>1.000000e+00</td>\n",
       "      <td>2.000000e+03</td>\n",
       "      <td>1.000000e+00</td>\n",
       "      <td>1.340000e+00</td>\n",
       "      <td>-1.000000e+00</td>\n",
       "    </tr>\n",
       "    <tr>\n",
       "      <th>25%</th>\n",
       "      <td>1.164371e+07</td>\n",
       "      <td>2.000000e+00</td>\n",
       "      <td>2.000000e+00</td>\n",
       "      <td>2.000000e+00</td>\n",
       "      <td>1.213000e+03</td>\n",
       "      <td>1.196000e+03</td>\n",
       "      <td>6.037000e+03</td>\n",
       "      <td>2.000000e+00</td>\n",
       "      <td>3.382768e+07</td>\n",
       "      <td>-1.183930e+08</td>\n",
       "      <td>...</td>\n",
       "      <td>2.061000e+03</td>\n",
       "      <td>9.618000e+04</td>\n",
       "      <td>0.000000e+00</td>\n",
       "      <td>1.950000e+03</td>\n",
       "      <td>7.480000e+04</td>\n",
       "      <td>1.796750e+05</td>\n",
       "      <td>2.015000e+03</td>\n",
       "      <td>7.483600e+04</td>\n",
       "      <td>2.461070e+03</td>\n",
       "      <td>6.037400e+13</td>\n",
       "    </tr>\n",
       "    <tr>\n",
       "      <th>50%</th>\n",
       "      <td>1.254509e+07</td>\n",
       "      <td>2.000000e+00</td>\n",
       "      <td>3.000000e+00</td>\n",
       "      <td>2.000000e+00</td>\n",
       "      <td>1.572000e+03</td>\n",
       "      <td>1.539000e+03</td>\n",
       "      <td>6.037000e+03</td>\n",
       "      <td>2.000000e+00</td>\n",
       "      <td>3.400825e+07</td>\n",
       "      <td>-1.181725e+08</td>\n",
       "      <td>...</td>\n",
       "      <td>3.101000e+03</td>\n",
       "      <td>9.637700e+04</td>\n",
       "      <td>0.000000e+00</td>\n",
       "      <td>1.963000e+03</td>\n",
       "      <td>1.225900e+05</td>\n",
       "      <td>3.060860e+05</td>\n",
       "      <td>2.015000e+03</td>\n",
       "      <td>1.670420e+05</td>\n",
       "      <td>3.991780e+03</td>\n",
       "      <td>6.037572e+13</td>\n",
       "    </tr>\n",
       "    <tr>\n",
       "      <th>75%</th>\n",
       "      <td>1.409712e+07</td>\n",
       "      <td>3.000000e+00</td>\n",
       "      <td>4.000000e+00</td>\n",
       "      <td>3.000000e+00</td>\n",
       "      <td>2.136000e+03</td>\n",
       "      <td>2.070000e+03</td>\n",
       "      <td>6.059000e+03</td>\n",
       "      <td>3.000000e+00</td>\n",
       "      <td>3.416186e+07</td>\n",
       "      <td>-1.179495e+08</td>\n",
       "      <td>...</td>\n",
       "      <td>3.101000e+03</td>\n",
       "      <td>9.697400e+04</td>\n",
       "      <td>0.000000e+00</td>\n",
       "      <td>1.981000e+03</td>\n",
       "      <td>1.968890e+05</td>\n",
       "      <td>4.880000e+05</td>\n",
       "      <td>2.015000e+03</td>\n",
       "      <td>3.069180e+05</td>\n",
       "      <td>6.201005e+03</td>\n",
       "      <td>6.059042e+13</td>\n",
       "    </tr>\n",
       "    <tr>\n",
       "      <th>max</th>\n",
       "      <td>1.696019e+08</td>\n",
       "      <td>2.000000e+01</td>\n",
       "      <td>2.000000e+01</td>\n",
       "      <td>2.000000e+01</td>\n",
       "      <td>9.525760e+05</td>\n",
       "      <td>2.903450e+05</td>\n",
       "      <td>6.111000e+03</td>\n",
       "      <td>2.000000e+01</td>\n",
       "      <td>3.481965e+07</td>\n",
       "      <td>-1.175543e+08</td>\n",
       "      <td>...</td>\n",
       "      <td>3.101000e+03</td>\n",
       "      <td>3.996750e+05</td>\n",
       "      <td>9.600000e+01</td>\n",
       "      <td>2.015000e+03</td>\n",
       "      <td>2.514860e+08</td>\n",
       "      <td>2.827860e+08</td>\n",
       "      <td>2.016000e+03</td>\n",
       "      <td>9.024622e+07</td>\n",
       "      <td>3.458861e+06</td>\n",
       "      <td>4.830301e+14</td>\n",
       "    </tr>\n",
       "  </tbody>\n",
       "</table>\n",
       "<p>8 rows × 24 columns</p>\n",
       "</div>"
      ],
      "text/plain": [
       "           parcelid   bathroomcnt    bedroomcnt  calculatedbathnbr  \\\n",
       "count  2.985217e+06  2.973755e+06  2.973767e+06       2.856305e+06   \n",
       "mean   1.332586e+07  2.209143e+00  3.088949e+00       2.299263e+00   \n",
       "std    7.909966e+06  1.077754e+00  1.275859e+00       1.000736e+00   \n",
       "min    1.071172e+07  0.000000e+00  0.000000e+00       1.000000e+00   \n",
       "25%    1.164371e+07  2.000000e+00  2.000000e+00       2.000000e+00   \n",
       "50%    1.254509e+07  2.000000e+00  3.000000e+00       2.000000e+00   \n",
       "75%    1.409712e+07  3.000000e+00  4.000000e+00       3.000000e+00   \n",
       "max    1.696019e+08  2.000000e+01  2.000000e+01       2.000000e+01   \n",
       "\n",
       "       calculatedfinishedsquarefeet  finishedsquarefeet12          fips  \\\n",
       "count                  2.929652e+06          2.709184e+06  2.973780e+06   \n",
       "mean                   1.827162e+03          1.760001e+03  6.048032e+03   \n",
       "std                    1.819780e+03          9.710610e+02  2.023278e+01   \n",
       "min                    1.000000e+00          1.000000e+00  6.037000e+03   \n",
       "25%                    1.213000e+03          1.196000e+03  6.037000e+03   \n",
       "50%                    1.572000e+03          1.539000e+03  6.037000e+03   \n",
       "75%                    2.136000e+03          2.070000e+03  6.059000e+03   \n",
       "max                    9.525760e+05          2.903450e+05  6.111000e+03   \n",
       "\n",
       "        fullbathcnt      latitude     longitude         ...           \\\n",
       "count  2.856305e+06  2.973780e+06  2.973780e+06         ...            \n",
       "mean   2.244165e+00  3.400147e+07 -1.182019e+08         ...            \n",
       "std    9.912054e-01  2.433812e+05  3.453171e+05         ...            \n",
       "min    1.000000e+00  3.332439e+07 -1.194758e+08         ...            \n",
       "25%    2.000000e+00  3.382768e+07 -1.183930e+08         ...            \n",
       "50%    2.000000e+00  3.400825e+07 -1.181725e+08         ...            \n",
       "75%    3.000000e+00  3.416186e+07 -1.179495e+08         ...            \n",
       "max    2.000000e+01  3.481965e+07 -1.175543e+08         ...            \n",
       "\n",
       "       regionidcounty   regionidzip       roomcnt     yearbuilt  \\\n",
       "count    2.973780e+06  2.971237e+06  2.973742e+06  2.925289e+06   \n",
       "mean     2.570461e+03  9.655267e+04  1.475018e+00  1.964262e+03   \n",
       "std      7.880711e+02  3.673175e+03  2.840403e+00  2.344132e+01   \n",
       "min      1.286000e+03  9.598200e+04  0.000000e+00  1.801000e+03   \n",
       "25%      2.061000e+03  9.618000e+04  0.000000e+00  1.950000e+03   \n",
       "50%      3.101000e+03  9.637700e+04  0.000000e+00  1.963000e+03   \n",
       "75%      3.101000e+03  9.697400e+04  0.000000e+00  1.981000e+03   \n",
       "max      3.101000e+03  3.996750e+05  9.600000e+01  2.015000e+03   \n",
       "\n",
       "       structuretaxvaluedollarcnt  taxvaluedollarcnt  assessmentyear  \\\n",
       "count                2.930235e+06       2.942667e+06    2.973778e+06   \n",
       "mean                 1.708836e+05       4.204790e+05    2.014999e+03   \n",
       "std                  4.020683e+05       7.263467e+05    3.683161e-02   \n",
       "min                  1.000000e+00       1.000000e+00    2.000000e+03   \n",
       "25%                  7.480000e+04       1.796750e+05    2.015000e+03   \n",
       "50%                  1.225900e+05       3.060860e+05    2.015000e+03   \n",
       "75%                  1.968890e+05       4.880000e+05    2.015000e+03   \n",
       "max                  2.514860e+08       2.827860e+08    2.016000e+03   \n",
       "\n",
       "       landtaxvaluedollarcnt     taxamount  censustractandblock  \n",
       "count           2.917484e+06  2.953967e+06         2.910091e+06  \n",
       "mean            2.524780e+05  5.377607e+03         6.048431e+13  \n",
       "std             4.450132e+05  9.183107e+03         3.249035e+11  \n",
       "min             1.000000e+00  1.340000e+00        -1.000000e+00  \n",
       "25%             7.483600e+04  2.461070e+03         6.037400e+13  \n",
       "50%             1.670420e+05  3.991780e+03         6.037572e+13  \n",
       "75%             3.069180e+05  6.201005e+03         6.059042e+13  \n",
       "max             9.024622e+07  3.458861e+06         4.830301e+14  \n",
       "\n",
       "[8 rows x 24 columns]"
      ]
     },
     "execution_count": 79,
     "metadata": {},
     "output_type": "execute_result"
    }
   ],
   "source": [
    "new_df.describe()"
   ]
  },
  {
   "cell_type": "code",
   "execution_count": 80,
   "metadata": {
    "collapsed": false
   },
   "outputs": [
    {
     "data": {
      "text/plain": [
       "parcelid                          int64\n",
       "bathroomcnt                     float64\n",
       "bedroomcnt                      float64\n",
       "calculatedbathnbr               float64\n",
       "calculatedfinishedsquarefeet    float64\n",
       "finishedsquarefeet12            float64\n",
       "fips                            float64\n",
       "fullbathcnt                     float64\n",
       "latitude                        float64\n",
       "longitude                       float64\n",
       "lotsizesquarefeet               float64\n",
       "propertycountylandusecode        object\n",
       "propertylandusetypeid           float64\n",
       "rawcensustractandblock          float64\n",
       "regionidcity                    float64\n",
       "regionidcounty                  float64\n",
       "regionidzip                     float64\n",
       "roomcnt                         float64\n",
       "yearbuilt                       float64\n",
       "structuretaxvaluedollarcnt      float64\n",
       "taxvaluedollarcnt               float64\n",
       "assessmentyear                  float64\n",
       "landtaxvaluedollarcnt           float64\n",
       "taxamount                       float64\n",
       "censustractandblock             float64\n",
       "dtype: object"
      ]
     },
     "execution_count": 80,
     "metadata": {},
     "output_type": "execute_result"
    }
   ],
   "source": [
    "new_df.dtypes"
   ]
  },
  {
   "cell_type": "markdown",
   "metadata": {},
   "source": [
    "First, simple model:\n",
    "Try dropping all columns that are missing >85% of the data.\n",
    "Then fill the missing data points with the most common value for the feature.\n"
   ]
  },
  {
   "cell_type": "code",
   "execution_count": 81,
   "metadata": {
    "collapsed": false
   },
   "outputs": [
    {
     "data": {
      "text/plain": [
       "parcelid                    int64\n",
       "logerror                  float64\n",
       "transactiondate    datetime64[ns]\n",
       "dtype: object"
      ]
     },
     "execution_count": 81,
     "metadata": {},
     "output_type": "execute_result"
    }
   ],
   "source": [
    "train_df.dtypes"
   ]
  },
  {
   "cell_type": "code",
   "execution_count": 83,
   "metadata": {
    "collapsed": false
   },
   "outputs": [],
   "source": [
    "combined_df = pd.merge(new_df, train_df, on='parcelid')"
   ]
  },
  {
   "cell_type": "code",
   "execution_count": 85,
   "metadata": {
    "collapsed": false
   },
   "outputs": [
    {
     "data": {
      "text/plain": [
       "(2985217, 25)"
      ]
     },
     "execution_count": 85,
     "metadata": {},
     "output_type": "execute_result"
    }
   ],
   "source": [
    "new_df.shape"
   ]
  },
  {
   "cell_type": "code",
   "execution_count": 86,
   "metadata": {
    "collapsed": false
   },
   "outputs": [
    {
     "data": {
      "text/plain": [
       "(90275, 3)"
      ]
     },
     "execution_count": 86,
     "metadata": {},
     "output_type": "execute_result"
    }
   ],
   "source": [
    "train_df.shape"
   ]
  },
  {
   "cell_type": "code",
   "execution_count": 84,
   "metadata": {
    "collapsed": false
   },
   "outputs": [
    {
     "data": {
      "text/plain": [
       "(90275, 27)"
      ]
     },
     "execution_count": 84,
     "metadata": {},
     "output_type": "execute_result"
    }
   ],
   "source": [
    "combined_df.shape"
   ]
  },
  {
   "cell_type": "code",
   "execution_count": 89,
   "metadata": {
    "collapsed": false
   },
   "outputs": [
    {
     "data": {
      "text/plain": [
       "<matplotlib.axes._subplots.AxesSubplot at 0x1235a0890>"
      ]
     },
     "execution_count": 89,
     "metadata": {},
     "output_type": "execute_result"
    },
    {
     "data": {
      "image/png": "[encoded data removed]",
      "text/plain": [
       "<matplotlib.figure.Figure at 0x1235adf10>"
      ]
     },
     "metadata": {},
     "output_type": "display_data"
    }
   ],
   "source": [
    "sns.heatmap(combined_df.corr())"
   ]
  },
  {
   "cell_type": "code",
   "execution_count": 108,
   "metadata": {
    "collapsed": false
   },
   "outputs": [],
   "source": [
    "corr_df= corr_df.reset_index()"
   ]
  },
  {
   "cell_type": "code",
   "execution_count": 109,
   "metadata": {
    "collapsed": false
   },
   "outputs": [
    {
     "data": {
      "text/html": [
       "<div>\n",
       "<table border=\"1\" class=\"dataframe\">\n",
       "  <thead>\n",
       "    <tr style=\"text-align: right;\">\n",
       "      <th></th>\n",
       "      <th>index</th>\n",
       "      <th>parcelid</th>\n",
       "      <th>bathroomcnt</th>\n",
       "      <th>bedroomcnt</th>\n",
       "      <th>calculatedbathnbr</th>\n",
       "      <th>calculatedfinishedsquarefeet</th>\n",
       "      <th>finishedsquarefeet12</th>\n",
       "      <th>fips</th>\n",
       "      <th>fullbathcnt</th>\n",
       "      <th>latitude</th>\n",
       "      <th>...</th>\n",
       "      <th>regionidzip</th>\n",
       "      <th>roomcnt</th>\n",
       "      <th>yearbuilt</th>\n",
       "      <th>structuretaxvaluedollarcnt</th>\n",
       "      <th>taxvaluedollarcnt</th>\n",
       "      <th>assessmentyear</th>\n",
       "      <th>landtaxvaluedollarcnt</th>\n",
       "      <th>taxamount</th>\n",
       "      <th>censustractandblock</th>\n",
       "      <th>logerror</th>\n",
       "    </tr>\n",
       "  </thead>\n",
       "  <tbody>\n",
       "    <tr>\n",
       "      <th>0</th>\n",
       "      <td>parcelid</td>\n",
       "      <td>1.000000</td>\n",
       "      <td>-0.014073</td>\n",
       "      <td>0.004971</td>\n",
       "      <td>-0.002608</td>\n",
       "      <td>0.016994</td>\n",
       "      <td>0.027694</td>\n",
       "      <td>0.666831</td>\n",
       "      <td>-0.060762</td>\n",
       "      <td>-0.240284</td>\n",
       "      <td>...</td>\n",
       "      <td>0.044127</td>\n",
       "      <td>0.485618</td>\n",
       "      <td>0.167428</td>\n",
       "      <td>0.008460</td>\n",
       "      <td>0.003840</td>\n",
       "      <td>NaN</td>\n",
       "      <td>0.001010</td>\n",
       "      <td>-0.030728</td>\n",
       "      <td>0.676362</td>\n",
       "      <td>0.004837</td>\n",
       "    </tr>\n",
       "    <tr>\n",
       "      <th>1</th>\n",
       "      <td>bathroomcnt</td>\n",
       "      <td>-0.014073</td>\n",
       "      <td>1.000000</td>\n",
       "      <td>0.646120</td>\n",
       "      <td>1.000000</td>\n",
       "      <td>0.772553</td>\n",
       "      <td>0.799372</td>\n",
       "      <td>0.009485</td>\n",
       "      <td>0.984130</td>\n",
       "      <td>0.022711</td>\n",
       "      <td>...</td>\n",
       "      <td>0.012265</td>\n",
       "      <td>0.044461</td>\n",
       "      <td>0.368061</td>\n",
       "      <td>0.586641</td>\n",
       "      <td>0.476363</td>\n",
       "      <td>NaN</td>\n",
       "      <td>0.353806</td>\n",
       "      <td>0.461900</td>\n",
       "      <td>0.013078</td>\n",
       "      <td>0.027889</td>\n",
       "    </tr>\n",
       "    <tr>\n",
       "      <th>2</th>\n",
       "      <td>bedroomcnt</td>\n",
       "      <td>0.004971</td>\n",
       "      <td>0.646120</td>\n",
       "      <td>1.000000</td>\n",
       "      <td>0.618060</td>\n",
       "      <td>0.632035</td>\n",
       "      <td>0.657599</td>\n",
       "      <td>0.023550</td>\n",
       "      <td>0.613753</td>\n",
       "      <td>0.066331</td>\n",
       "      <td>...</td>\n",
       "      <td>0.014874</td>\n",
       "      <td>0.164484</td>\n",
       "      <td>0.040871</td>\n",
       "      <td>0.305405</td>\n",
       "      <td>0.241329</td>\n",
       "      <td>NaN</td>\n",
       "      <td>0.173205</td>\n",
       "      <td>0.239118</td>\n",
       "      <td>0.028170</td>\n",
       "      <td>0.025467</td>\n",
       "    </tr>\n",
       "    <tr>\n",
       "      <th>3</th>\n",
       "      <td>calculatedbathnbr</td>\n",
       "      <td>-0.002608</td>\n",
       "      <td>1.000000</td>\n",
       "      <td>0.618060</td>\n",
       "      <td>1.000000</td>\n",
       "      <td>0.801208</td>\n",
       "      <td>0.805475</td>\n",
       "      <td>0.030662</td>\n",
       "      <td>0.984130</td>\n",
       "      <td>0.024968</td>\n",
       "      <td>...</td>\n",
       "      <td>0.014121</td>\n",
       "      <td>0.031486</td>\n",
       "      <td>0.369543</td>\n",
       "      <td>0.611665</td>\n",
       "      <td>0.497763</td>\n",
       "      <td>NaN</td>\n",
       "      <td>0.371634</td>\n",
       "      <td>0.487320</td>\n",
       "      <td>0.031270</td>\n",
       "      <td>0.029448</td>\n",
       "    </tr>\n",
       "    <tr>\n",
       "      <th>4</th>\n",
       "      <td>calculatedfinishedsquarefeet</td>\n",
       "      <td>0.016994</td>\n",
       "      <td>0.772553</td>\n",
       "      <td>0.632035</td>\n",
       "      <td>0.801208</td>\n",
       "      <td>1.000000</td>\n",
       "      <td>1.000000</td>\n",
       "      <td>0.058549</td>\n",
       "      <td>0.780325</td>\n",
       "      <td>0.009321</td>\n",
       "      <td>...</td>\n",
       "      <td>0.022890</td>\n",
       "      <td>0.098244</td>\n",
       "      <td>0.211641</td>\n",
       "      <td>0.716489</td>\n",
       "      <td>0.600018</td>\n",
       "      <td>NaN</td>\n",
       "      <td>0.458550</td>\n",
       "      <td>0.589022</td>\n",
       "      <td>0.058793</td>\n",
       "      <td>0.038784</td>\n",
       "    </tr>\n",
       "    <tr>\n",
       "      <th>5</th>\n",
       "      <td>finishedsquarefeet12</td>\n",
       "      <td>0.027694</td>\n",
       "      <td>0.799372</td>\n",
       "      <td>0.657599</td>\n",
       "      <td>0.805475</td>\n",
       "      <td>1.000000</td>\n",
       "      <td>1.000000</td>\n",
       "      <td>0.076336</td>\n",
       "      <td>0.782956</td>\n",
       "      <td>0.010804</td>\n",
       "      <td>...</td>\n",
       "      <td>0.023319</td>\n",
       "      <td>0.120312</td>\n",
       "      <td>0.258530</td>\n",
       "      <td>0.744048</td>\n",
       "      <td>0.626052</td>\n",
       "      <td>NaN</td>\n",
       "      <td>0.480463</td>\n",
       "      <td>0.612496</td>\n",
       "      <td>0.076693</td>\n",
       "      <td>0.041922</td>\n",
       "    </tr>\n",
       "    <tr>\n",
       "      <th>6</th>\n",
       "      <td>fips</td>\n",
       "      <td>0.666831</td>\n",
       "      <td>0.009485</td>\n",
       "      <td>0.023550</td>\n",
       "      <td>0.030662</td>\n",
       "      <td>0.058549</td>\n",
       "      <td>0.076336</td>\n",
       "      <td>1.000000</td>\n",
       "      <td>-0.041887</td>\n",
       "      <td>-0.075680</td>\n",
       "      <td>...</td>\n",
       "      <td>0.054007</td>\n",
       "      <td>0.699230</td>\n",
       "      <td>0.241863</td>\n",
       "      <td>0.037981</td>\n",
       "      <td>0.013116</td>\n",
       "      <td>NaN</td>\n",
       "      <td>-0.001048</td>\n",
       "      <td>-0.030628</td>\n",
       "      <td>0.999759</td>\n",
       "      <td>0.008363</td>\n",
       "    </tr>\n",
       "    <tr>\n",
       "      <th>7</th>\n",
       "      <td>fullbathcnt</td>\n",
       "      <td>-0.060762</td>\n",
       "      <td>0.984130</td>\n",
       "      <td>0.613753</td>\n",
       "      <td>0.984130</td>\n",
       "      <td>0.780325</td>\n",
       "      <td>0.782956</td>\n",
       "      <td>-0.041887</td>\n",
       "      <td>1.000000</td>\n",
       "      <td>0.079185</td>\n",
       "      <td>...</td>\n",
       "      <td>0.007626</td>\n",
       "      <td>-0.021599</td>\n",
       "      <td>0.322535</td>\n",
       "      <td>0.592410</td>\n",
       "      <td>0.480920</td>\n",
       "      <td>NaN</td>\n",
       "      <td>0.358329</td>\n",
       "      <td>0.476010</td>\n",
       "      <td>-0.040851</td>\n",
       "      <td>0.028845</td>\n",
       "    </tr>\n",
       "    <tr>\n",
       "      <th>8</th>\n",
       "      <td>latitude</td>\n",
       "      <td>-0.240284</td>\n",
       "      <td>0.022711</td>\n",
       "      <td>0.066331</td>\n",
       "      <td>0.024968</td>\n",
       "      <td>0.009321</td>\n",
       "      <td>0.010804</td>\n",
       "      <td>-0.075680</td>\n",
       "      <td>0.079185</td>\n",
       "      <td>1.000000</td>\n",
       "      <td>...</td>\n",
       "      <td>0.000205</td>\n",
       "      <td>-0.206495</td>\n",
       "      <td>-0.007475</td>\n",
       "      <td>-0.013548</td>\n",
       "      <td>-0.112394</td>\n",
       "      <td>NaN</td>\n",
       "      <td>-0.147394</td>\n",
       "      <td>-0.078411</td>\n",
       "      <td>-0.070458</td>\n",
       "      <td>0.004915</td>\n",
       "    </tr>\n",
       "    <tr>\n",
       "      <th>9</th>\n",
       "      <td>longitude</td>\n",
       "      <td>-0.018132</td>\n",
       "      <td>-0.018347</td>\n",
       "      <td>-0.004879</td>\n",
       "      <td>-0.028204</td>\n",
       "      <td>-0.022369</td>\n",
       "      <td>-0.021118</td>\n",
       "      <td>-0.323956</td>\n",
       "      <td>-0.058946</td>\n",
       "      <td>-0.594097</td>\n",
       "      <td>...</td>\n",
       "      <td>0.036801</td>\n",
       "      <td>-0.050867</td>\n",
       "      <td>0.068977</td>\n",
       "      <td>-0.059807</td>\n",
       "      <td>-0.024682</td>\n",
       "      <td>NaN</td>\n",
       "      <td>-0.004087</td>\n",
       "      <td>-0.035154</td>\n",
       "      <td>-0.325381</td>\n",
       "      <td>-0.003432</td>\n",
       "    </tr>\n",
       "    <tr>\n",
       "      <th>10</th>\n",
       "      <td>lotsizesquarefeet</td>\n",
       "      <td>-0.072500</td>\n",
       "      <td>-0.000197</td>\n",
       "      <td>-0.113984</td>\n",
       "      <td>0.004853</td>\n",
       "      <td>-0.048770</td>\n",
       "      <td>-0.046706</td>\n",
       "      <td>-0.080107</td>\n",
       "      <td>0.013917</td>\n",
       "      <td>0.091948</td>\n",
       "      <td>...</td>\n",
       "      <td>-0.003748</td>\n",
       "      <td>-0.084953</td>\n",
       "      <td>0.118078</td>\n",
       "      <td>0.008655</td>\n",
       "      <td>-0.021347</td>\n",
       "      <td>NaN</td>\n",
       "      <td>-0.034030</td>\n",
       "      <td>-0.022038</td>\n",
       "      <td>-0.078503</td>\n",
       "      <td>0.004835</td>\n",
       "    </tr>\n",
       "    <tr>\n",
       "      <th>11</th>\n",
       "      <td>propertylandusetypeid</td>\n",
       "      <td>0.044031</td>\n",
       "      <td>-0.052871</td>\n",
       "      <td>-0.271022</td>\n",
       "      <td>-0.123384</td>\n",
       "      <td>-0.197334</td>\n",
       "      <td>-0.240549</td>\n",
       "      <td>0.054937</td>\n",
       "      <td>-0.139111</td>\n",
       "      <td>-0.024212</td>\n",
       "      <td>...</td>\n",
       "      <td>0.004499</td>\n",
       "      <td>-0.019325</td>\n",
       "      <td>0.350468</td>\n",
       "      <td>0.006933</td>\n",
       "      <td>-0.028610</td>\n",
       "      <td>NaN</td>\n",
       "      <td>-0.042350</td>\n",
       "      <td>-0.042380</td>\n",
       "      <td>0.054982</td>\n",
       "      <td>0.001003</td>\n",
       "    </tr>\n",
       "    <tr>\n",
       "      <th>12</th>\n",
       "      <td>rawcensustractandblock</td>\n",
       "      <td>0.666216</td>\n",
       "      <td>0.009713</td>\n",
       "      <td>0.024190</td>\n",
       "      <td>0.030944</td>\n",
       "      <td>0.058677</td>\n",
       "      <td>0.076523</td>\n",
       "      <td>0.999937</td>\n",
       "      <td>-0.041246</td>\n",
       "      <td>-0.070118</td>\n",
       "      <td>...</td>\n",
       "      <td>0.054051</td>\n",
       "      <td>0.697821</td>\n",
       "      <td>0.243203</td>\n",
       "      <td>0.038109</td>\n",
       "      <td>0.012442</td>\n",
       "      <td>NaN</td>\n",
       "      <td>-0.002037</td>\n",
       "      <td>-0.031046</td>\n",
       "      <td>0.999822</td>\n",
       "      <td>0.008376</td>\n",
       "    </tr>\n",
       "    <tr>\n",
       "      <th>13</th>\n",
       "      <td>regionidcity</td>\n",
       "      <td>-0.018055</td>\n",
       "      <td>-0.037242</td>\n",
       "      <td>-0.022166</td>\n",
       "      <td>-0.039543</td>\n",
       "      <td>-0.041834</td>\n",
       "      <td>-0.041679</td>\n",
       "      <td>-0.032543</td>\n",
       "      <td>-0.037051</td>\n",
       "      <td>-0.008705</td>\n",
       "      <td>...</td>\n",
       "      <td>-0.009446</td>\n",
       "      <td>-0.038801</td>\n",
       "      <td>-0.048359</td>\n",
       "      <td>-0.030709</td>\n",
       "      <td>-0.021307</td>\n",
       "      <td>NaN</td>\n",
       "      <td>-0.013734</td>\n",
       "      <td>-0.026625</td>\n",
       "      <td>-0.031388</td>\n",
       "      <td>-0.002121</td>\n",
       "    </tr>\n",
       "    <tr>\n",
       "      <th>14</th>\n",
       "      <td>regionidcounty</td>\n",
       "      <td>-0.515921</td>\n",
       "      <td>-0.022745</td>\n",
       "      <td>-0.002939</td>\n",
       "      <td>-0.037561</td>\n",
       "      <td>-0.062964</td>\n",
       "      <td>-0.082542</td>\n",
       "      <td>-0.609140</td>\n",
       "      <td>0.056894</td>\n",
       "      <td>0.605427</td>\n",
       "      <td>...</td>\n",
       "      <td>-0.068178</td>\n",
       "      <td>-0.637565</td>\n",
       "      <td>-0.290686</td>\n",
       "      <td>-0.018229</td>\n",
       "      <td>-0.054035</td>\n",
       "      <td>NaN</td>\n",
       "      <td>-0.064836</td>\n",
       "      <td>-0.008500</td>\n",
       "      <td>-0.605118</td>\n",
       "      <td>0.000341</td>\n",
       "    </tr>\n",
       "    <tr>\n",
       "      <th>15</th>\n",
       "      <td>regionidzip</td>\n",
       "      <td>0.044127</td>\n",
       "      <td>0.012265</td>\n",
       "      <td>0.014874</td>\n",
       "      <td>0.014121</td>\n",
       "      <td>0.022890</td>\n",
       "      <td>0.023319</td>\n",
       "      <td>0.054007</td>\n",
       "      <td>0.007626</td>\n",
       "      <td>0.000205</td>\n",
       "      <td>...</td>\n",
       "      <td>1.000000</td>\n",
       "      <td>0.047243</td>\n",
       "      <td>0.042829</td>\n",
       "      <td>0.002106</td>\n",
       "      <td>0.005689</td>\n",
       "      <td>NaN</td>\n",
       "      <td>0.006802</td>\n",
       "      <td>0.001434</td>\n",
       "      <td>0.053808</td>\n",
       "      <td>-0.006507</td>\n",
       "    </tr>\n",
       "    <tr>\n",
       "      <th>16</th>\n",
       "      <td>roomcnt</td>\n",
       "      <td>0.485618</td>\n",
       "      <td>0.044461</td>\n",
       "      <td>0.164484</td>\n",
       "      <td>0.031486</td>\n",
       "      <td>0.098244</td>\n",
       "      <td>0.120312</td>\n",
       "      <td>0.699230</td>\n",
       "      <td>-0.021599</td>\n",
       "      <td>-0.206495</td>\n",
       "      <td>...</td>\n",
       "      <td>0.047243</td>\n",
       "      <td>1.000000</td>\n",
       "      <td>0.078065</td>\n",
       "      <td>-0.028815</td>\n",
       "      <td>0.011527</td>\n",
       "      <td>NaN</td>\n",
       "      <td>0.030126</td>\n",
       "      <td>-0.031908</td>\n",
       "      <td>0.702390</td>\n",
       "      <td>0.005760</td>\n",
       "    </tr>\n",
       "    <tr>\n",
       "      <th>17</th>\n",
       "      <td>yearbuilt</td>\n",
       "      <td>0.167428</td>\n",
       "      <td>0.368061</td>\n",
       "      <td>0.040871</td>\n",
       "      <td>0.369543</td>\n",
       "      <td>0.211641</td>\n",
       "      <td>0.258530</td>\n",
       "      <td>0.241863</td>\n",
       "      <td>0.322535</td>\n",
       "      <td>-0.007475</td>\n",
       "      <td>...</td>\n",
       "      <td>0.042829</td>\n",
       "      <td>0.078065</td>\n",
       "      <td>1.000000</td>\n",
       "      <td>0.299696</td>\n",
       "      <td>0.140940</td>\n",
       "      <td>NaN</td>\n",
       "      <td>0.039493</td>\n",
       "      <td>0.115647</td>\n",
       "      <td>0.244001</td>\n",
       "      <td>0.017312</td>\n",
       "    </tr>\n",
       "    <tr>\n",
       "      <th>18</th>\n",
       "      <td>structuretaxvaluedollarcnt</td>\n",
       "      <td>0.008460</td>\n",
       "      <td>0.586641</td>\n",
       "      <td>0.305405</td>\n",
       "      <td>0.611665</td>\n",
       "      <td>0.716489</td>\n",
       "      <td>0.744048</td>\n",
       "      <td>0.037981</td>\n",
       "      <td>0.592410</td>\n",
       "      <td>-0.013548</td>\n",
       "      <td>...</td>\n",
       "      <td>0.002106</td>\n",
       "      <td>-0.028815</td>\n",
       "      <td>0.299696</td>\n",
       "      <td>1.000000</td>\n",
       "      <td>0.826052</td>\n",
       "      <td>NaN</td>\n",
       "      <td>0.623292</td>\n",
       "      <td>0.795014</td>\n",
       "      <td>0.038507</td>\n",
       "      <td>0.022085</td>\n",
       "    </tr>\n",
       "    <tr>\n",
       "      <th>19</th>\n",
       "      <td>taxvaluedollarcnt</td>\n",
       "      <td>0.003840</td>\n",
       "      <td>0.476363</td>\n",
       "      <td>0.241329</td>\n",
       "      <td>0.497763</td>\n",
       "      <td>0.600018</td>\n",
       "      <td>0.626052</td>\n",
       "      <td>0.013116</td>\n",
       "      <td>0.480920</td>\n",
       "      <td>-0.112394</td>\n",
       "      <td>...</td>\n",
       "      <td>0.005689</td>\n",
       "      <td>0.011527</td>\n",
       "      <td>0.140940</td>\n",
       "      <td>0.826052</td>\n",
       "      <td>1.000000</td>\n",
       "      <td>NaN</td>\n",
       "      <td>0.955336</td>\n",
       "      <td>0.949376</td>\n",
       "      <td>0.013039</td>\n",
       "      <td>0.006508</td>\n",
       "    </tr>\n",
       "    <tr>\n",
       "      <th>20</th>\n",
       "      <td>assessmentyear</td>\n",
       "      <td>NaN</td>\n",
       "      <td>NaN</td>\n",
       "      <td>NaN</td>\n",
       "      <td>NaN</td>\n",
       "      <td>NaN</td>\n",
       "      <td>NaN</td>\n",
       "      <td>NaN</td>\n",
       "      <td>NaN</td>\n",
       "      <td>NaN</td>\n",
       "      <td>...</td>\n",
       "      <td>NaN</td>\n",
       "      <td>NaN</td>\n",
       "      <td>NaN</td>\n",
       "      <td>NaN</td>\n",
       "      <td>NaN</td>\n",
       "      <td>NaN</td>\n",
       "      <td>NaN</td>\n",
       "      <td>NaN</td>\n",
       "      <td>NaN</td>\n",
       "      <td>NaN</td>\n",
       "    </tr>\n",
       "    <tr>\n",
       "      <th>21</th>\n",
       "      <td>landtaxvaluedollarcnt</td>\n",
       "      <td>0.001010</td>\n",
       "      <td>0.353806</td>\n",
       "      <td>0.173205</td>\n",
       "      <td>0.371634</td>\n",
       "      <td>0.458550</td>\n",
       "      <td>0.480463</td>\n",
       "      <td>-0.001048</td>\n",
       "      <td>0.358329</td>\n",
       "      <td>-0.147394</td>\n",
       "      <td>...</td>\n",
       "      <td>0.006802</td>\n",
       "      <td>0.030126</td>\n",
       "      <td>0.039493</td>\n",
       "      <td>0.623292</td>\n",
       "      <td>0.955336</td>\n",
       "      <td>NaN</td>\n",
       "      <td>1.000000</td>\n",
       "      <td>0.902713</td>\n",
       "      <td>-0.001801</td>\n",
       "      <td>-0.003051</td>\n",
       "    </tr>\n",
       "    <tr>\n",
       "      <th>22</th>\n",
       "      <td>taxamount</td>\n",
       "      <td>-0.030728</td>\n",
       "      <td>0.461900</td>\n",
       "      <td>0.239118</td>\n",
       "      <td>0.487320</td>\n",
       "      <td>0.589022</td>\n",
       "      <td>0.612496</td>\n",
       "      <td>-0.030628</td>\n",
       "      <td>0.476010</td>\n",
       "      <td>-0.078411</td>\n",
       "      <td>...</td>\n",
       "      <td>0.001434</td>\n",
       "      <td>-0.031908</td>\n",
       "      <td>0.115647</td>\n",
       "      <td>0.795014</td>\n",
       "      <td>0.949376</td>\n",
       "      <td>NaN</td>\n",
       "      <td>0.902713</td>\n",
       "      <td>1.000000</td>\n",
       "      <td>-0.030396</td>\n",
       "      <td>-0.006671</td>\n",
       "    </tr>\n",
       "    <tr>\n",
       "      <th>23</th>\n",
       "      <td>censustractandblock</td>\n",
       "      <td>0.676362</td>\n",
       "      <td>0.013078</td>\n",
       "      <td>0.028170</td>\n",
       "      <td>0.031270</td>\n",
       "      <td>0.058793</td>\n",
       "      <td>0.076693</td>\n",
       "      <td>0.999759</td>\n",
       "      <td>-0.040851</td>\n",
       "      <td>-0.070458</td>\n",
       "      <td>...</td>\n",
       "      <td>0.053808</td>\n",
       "      <td>0.702390</td>\n",
       "      <td>0.244001</td>\n",
       "      <td>0.038507</td>\n",
       "      <td>0.013039</td>\n",
       "      <td>NaN</td>\n",
       "      <td>-0.001801</td>\n",
       "      <td>-0.030396</td>\n",
       "      <td>1.000000</td>\n",
       "      <td>0.008892</td>\n",
       "    </tr>\n",
       "    <tr>\n",
       "      <th>24</th>\n",
       "      <td>logerror</td>\n",
       "      <td>0.004837</td>\n",
       "      <td>0.027889</td>\n",
       "      <td>0.025467</td>\n",
       "      <td>0.029448</td>\n",
       "      <td>0.038784</td>\n",
       "      <td>0.041922</td>\n",
       "      <td>0.008363</td>\n",
       "      <td>0.028845</td>\n",
       "      <td>0.004915</td>\n",
       "      <td>...</td>\n",
       "      <td>-0.006507</td>\n",
       "      <td>0.005760</td>\n",
       "      <td>0.017312</td>\n",
       "      <td>0.022085</td>\n",
       "      <td>0.006508</td>\n",
       "      <td>NaN</td>\n",
       "      <td>-0.003051</td>\n",
       "      <td>-0.006671</td>\n",
       "      <td>0.008892</td>\n",
       "      <td>1.000000</td>\n",
       "    </tr>\n",
       "  </tbody>\n",
       "</table>\n",
       "<p>25 rows × 26 columns</p>\n",
       "</div>"
      ],
      "text/plain": [
       "                           index  parcelid  bathroomcnt  bedroomcnt  \\\n",
       "0                       parcelid  1.000000    -0.014073    0.004971   \n",
       "1                    bathroomcnt -0.014073     1.000000    0.646120   \n",
       "2                     bedroomcnt  0.004971     0.646120    1.000000   \n",
       "3              calculatedbathnbr -0.002608     1.000000    0.618060   \n",
       "4   calculatedfinishedsquarefeet  0.016994     0.772553    0.632035   \n",
       "5           finishedsquarefeet12  0.027694     0.799372    0.657599   \n",
       "6                           fips  0.666831     0.009485    0.023550   \n",
       "7                    fullbathcnt -0.060762     0.984130    0.613753   \n",
       "8                       latitude -0.240284     0.022711    0.066331   \n",
       "9                      longitude -0.018132    -0.018347   -0.004879   \n",
       "10             lotsizesquarefeet -0.072500    -0.000197   -0.113984   \n",
       "11         propertylandusetypeid  0.044031    -0.052871   -0.271022   \n",
       "12        rawcensustractandblock  0.666216     0.009713    0.024190   \n",
       "13                  regionidcity -0.018055    -0.037242   -0.022166   \n",
       "14                regionidcounty -0.515921    -0.022745   -0.002939   \n",
       "15                   regionidzip  0.044127     0.012265    0.014874   \n",
       "16                       roomcnt  0.485618     0.044461    0.164484   \n",
       "17                     yearbuilt  0.167428     0.368061    0.040871   \n",
       "18    structuretaxvaluedollarcnt  0.008460     0.586641    0.305405   \n",
       "19             taxvaluedollarcnt  0.003840     0.476363    0.241329   \n",
       "20                assessmentyear       NaN          NaN         NaN   \n",
       "21         landtaxvaluedollarcnt  0.001010     0.353806    0.173205   \n",
       "22                     taxamount -0.030728     0.461900    0.239118   \n",
       "23           censustractandblock  0.676362     0.013078    0.028170   \n",
       "24                      logerror  0.004837     0.027889    0.025467   \n",
       "\n",
       "    calculatedbathnbr  calculatedfinishedsquarefeet  finishedsquarefeet12  \\\n",
       "0           -0.002608                      0.016994              0.027694   \n",
       "1            1.000000                      0.772553              0.799372   \n",
       "2            0.618060                      0.632035              0.657599   \n",
       "3            1.000000                      0.801208              0.805475   \n",
       "4            0.801208                      1.000000              1.000000   \n",
       "5            0.805475                      1.000000              1.000000   \n",
       "6            0.030662                      0.058549              0.076336   \n",
       "7            0.984130                      0.780325              0.782956   \n",
       "8            0.024968                      0.009321              0.010804   \n",
       "9           -0.028204                     -0.022369             -0.021118   \n",
       "10           0.004853                     -0.048770             -0.046706   \n",
       "11          -0.123384                     -0.197334             -0.240549   \n",
       "12           0.030944                      0.058677              0.076523   \n",
       "13          -0.039543                     -0.041834             -0.041679   \n",
       "14          -0.037561                     -0.062964             -0.082542   \n",
       "15           0.014121                      0.022890              0.023319   \n",
       "16           0.031486                      0.098244              0.120312   \n",
       "17           0.369543                      0.211641              0.258530   \n",
       "18           0.611665                      0.716489              0.744048   \n",
       "19           0.497763                      0.600018              0.626052   \n",
       "20                NaN                           NaN                   NaN   \n",
       "21           0.371634                      0.458550              0.480463   \n",
       "22           0.487320                      0.589022              0.612496   \n",
       "23           0.031270                      0.058793              0.076693   \n",
       "24           0.029448                      0.038784              0.041922   \n",
       "\n",
       "        fips  fullbathcnt  latitude    ...     regionidzip   roomcnt  \\\n",
       "0   0.666831    -0.060762 -0.240284    ...        0.044127  0.485618   \n",
       "1   0.009485     0.984130  0.022711    ...        0.012265  0.044461   \n",
       "2   0.023550     0.613753  0.066331    ...        0.014874  0.164484   \n",
       "3   0.030662     0.984130  0.024968    ...        0.014121  0.031486   \n",
       "4   0.058549     0.780325  0.009321    ...        0.022890  0.098244   \n",
       "5   0.076336     0.782956  0.010804    ...        0.023319  0.120312   \n",
       "6   1.000000    -0.041887 -0.075680    ...        0.054007  0.699230   \n",
       "7  -0.041887     1.000000  0.079185    ...        0.007626 -0.021599   \n",
       "8  -0.075680     0.079185  1.000000    ...        0.000205 -0.206495   \n",
       "9  -0.323956    -0.058946 -0.594097    ...        0.036801 -0.050867   \n",
       "10 -0.080107     0.013917  0.091948    ...       -0.003748 -0.084953   \n",
       "11  0.054937    -0.139111 -0.024212    ...        0.004499 -0.019325   \n",
       "12  0.999937    -0.041246 -0.070118    ...        0.054051  0.697821   \n",
       "13 -0.032543    -0.037051 -0.008705    ...       -0.009446 -0.038801   \n",
       "14 -0.609140     0.056894  0.605427    ...       -0.068178 -0.637565   \n",
       "15  0.054007     0.007626  0.000205    ...        1.000000  0.047243   \n",
       "16  0.699230    -0.021599 -0.206495    ...        0.047243  1.000000   \n",
       "17  0.241863     0.322535 -0.007475    ...        0.042829  0.078065   \n",
       "18  0.037981     0.592410 -0.013548    ...        0.002106 -0.028815   \n",
       "19  0.013116     0.480920 -0.112394    ...        0.005689  0.011527   \n",
       "20       NaN          NaN       NaN    ...             NaN       NaN   \n",
       "21 -0.001048     0.358329 -0.147394    ...        0.006802  0.030126   \n",
       "22 -0.030628     0.476010 -0.078411    ...        0.001434 -0.031908   \n",
       "23  0.999759    -0.040851 -0.070458    ...        0.053808  0.702390   \n",
       "24  0.008363     0.028845  0.004915    ...       -0.006507  0.005760   \n",
       "\n",
       "    yearbuilt  structuretaxvaluedollarcnt  taxvaluedollarcnt  assessmentyear  \\\n",
       "0    0.167428                    0.008460           0.003840             NaN   \n",
       "1    0.368061                    0.586641           0.476363             NaN   \n",
       "2    0.040871                    0.305405           0.241329             NaN   \n",
       "3    0.369543                    0.611665           0.497763             NaN   \n",
       "4    0.211641                    0.716489           0.600018             NaN   \n",
       "5    0.258530                    0.744048           0.626052             NaN   \n",
       "6    0.241863                    0.037981           0.013116             NaN   \n",
       "7    0.322535                    0.592410           0.480920             NaN   \n",
       "8   -0.007475                   -0.013548          -0.112394             NaN   \n",
       "9    0.068977                   -0.059807          -0.024682             NaN   \n",
       "10   0.118078                    0.008655          -0.021347             NaN   \n",
       "11   0.350468                    0.006933          -0.028610             NaN   \n",
       "12   0.243203                    0.038109           0.012442             NaN   \n",
       "13  -0.048359                   -0.030709          -0.021307             NaN   \n",
       "14  -0.290686                   -0.018229          -0.054035             NaN   \n",
       "15   0.042829                    0.002106           0.005689             NaN   \n",
       "16   0.078065                   -0.028815           0.011527             NaN   \n",
       "17   1.000000                    0.299696           0.140940             NaN   \n",
       "18   0.299696                    1.000000           0.826052             NaN   \n",
       "19   0.140940                    0.826052           1.000000             NaN   \n",
       "20        NaN                         NaN                NaN             NaN   \n",
       "21   0.039493                    0.623292           0.955336             NaN   \n",
       "22   0.115647                    0.795014           0.949376             NaN   \n",
       "23   0.244001                    0.038507           0.013039             NaN   \n",
       "24   0.017312                    0.022085           0.006508             NaN   \n",
       "\n",
       "    landtaxvaluedollarcnt  taxamount  censustractandblock  logerror  \n",
       "0                0.001010  -0.030728             0.676362  0.004837  \n",
       "1                0.353806   0.461900             0.013078  0.027889  \n",
       "2                0.173205   0.239118             0.028170  0.025467  \n",
       "3                0.371634   0.487320             0.031270  0.029448  \n",
       "4                0.458550   0.589022             0.058793  0.038784  \n",
       "5                0.480463   0.612496             0.076693  0.041922  \n",
       "6               -0.001048  -0.030628             0.999759  0.008363  \n",
       "7                0.358329   0.476010            -0.040851  0.028845  \n",
       "8               -0.147394  -0.078411            -0.070458  0.004915  \n",
       "9               -0.004087  -0.035154            -0.325381 -0.003432  \n",
       "10              -0.034030  -0.022038            -0.078503  0.004835  \n",
       "11              -0.042350  -0.042380             0.054982  0.001003  \n",
       "12              -0.002037  -0.031046             0.999822  0.008376  \n",
       "13              -0.013734  -0.026625            -0.031388 -0.002121  \n",
       "14              -0.064836  -0.008500            -0.605118  0.000341  \n",
       "15               0.006802   0.001434             0.053808 -0.006507  \n",
       "16               0.030126  -0.031908             0.702390  0.005760  \n",
       "17               0.039493   0.115647             0.244001  0.017312  \n",
       "18               0.623292   0.795014             0.038507  0.022085  \n",
       "19               0.955336   0.949376             0.013039  0.006508  \n",
       "20                    NaN        NaN                  NaN       NaN  \n",
       "21               1.000000   0.902713            -0.001801 -0.003051  \n",
       "22               0.902713   1.000000            -0.030396 -0.006671  \n",
       "23              -0.001801  -0.030396             1.000000  0.008892  \n",
       "24              -0.003051  -0.006671             0.008892  1.000000  \n",
       "\n",
       "[25 rows x 26 columns]"
      ]
     },
     "execution_count": 109,
     "metadata": {},
     "output_type": "execute_result"
    }
   ],
   "source": [
    "corr_df"
   ]
  },
  {
   "cell_type": "code",
   "execution_count": 117,
   "metadata": {
    "collapsed": false
   },
   "outputs": [
    {
     "data": {
      "text/plain": [
       "(array([ 0,  1,  2,  3,  4,  5,  6,  7,  8,  9, 10, 11, 12, 13, 14, 15, 16,\n",
       "        17, 18, 19, 20, 21, 22, 23]), <a list of 24 Text xticklabel objects>)"
      ]
     },
     "execution_count": 117,
     "metadata": {},
     "output_type": "execute_result"
    },
    {
     "data": {
      "image/png": "[encoded data removed]",
      "text/plain": [
       "<matplotlib.figure.Figure at 0x12971c590>"
      ]
     },
     "metadata": {},
     "output_type": "display_data"
    }
   ],
   "source": [
    "sns.barplot(y = 'logerror', x = 'index', data = corr_df.drop(corr_df.index[24]))\n",
    "plt.xticks(rotation = 90)"
   ]
  },
  {
   "cell_type": "code",
   "execution_count": 91,
   "metadata": {
    "collapsed": false
   },
   "outputs": [],
   "source": [
    "corr_df=combined_df.corr()"
   ]
  },
  {
   "cell_type": "code",
   "execution_count": 96,
   "metadata": {
    "collapsed": false
   },
   "outputs": [
    {
     "data": {
      "text/plain": [
       "parcelid                        0.004837\n",
       "bathroomcnt                     0.027889\n",
       "bedroomcnt                      0.025467\n",
       "calculatedbathnbr               0.029448\n",
       "calculatedfinishedsquarefeet    0.038784\n",
       "finishedsquarefeet12            0.041922\n",
       "fips                            0.008363\n",
       "fullbathcnt                     0.028845\n",
       "latitude                        0.004915\n",
       "longitude                      -0.003432\n",
       "lotsizesquarefeet               0.004835\n",
       "propertylandusetypeid           0.001003\n",
       "rawcensustractandblock          0.008376\n",
       "regionidcity                   -0.002121\n",
       "regionidcounty                  0.000341\n",
       "regionidzip                    -0.006507\n",
       "roomcnt                         0.005760\n",
       "yearbuilt                       0.017312\n",
       "structuretaxvaluedollarcnt      0.022085\n",
       "taxvaluedollarcnt               0.006508\n",
       "assessmentyear                       NaN\n",
       "landtaxvaluedollarcnt          -0.003051\n",
       "taxamount                      -0.006671\n",
       "censustractandblock             0.008892\n",
       "logerror                        1.000000\n",
       "Name: logerror, dtype: float64"
      ]
     },
     "execution_count": 96,
     "metadata": {},
     "output_type": "execute_result"
    }
   ],
   "source": [
    "corr_df.logerror"
   ]
  },
  {
   "cell_type": "code",
   "execution_count": 101,
   "metadata": {
    "collapsed": false
   },
   "outputs": [
    {
     "data": {
      "text/plain": [
       "parcelid                        0.004837\n",
       "bathroomcnt                     0.027889\n",
       "bedroomcnt                      0.025467\n",
       "calculatedbathnbr               0.029448\n",
       "calculatedfinishedsquarefeet    0.038784\n",
       "finishedsquarefeet12            0.041922\n",
       "fips                            0.008363\n",
       "fullbathcnt                     0.028845\n",
       "latitude                        0.004915\n",
       "longitude                      -0.003432\n",
       "lotsizesquarefeet               0.004835\n",
       "propertylandusetypeid           0.001003\n",
       "rawcensustractandblock          0.008376\n",
       "regionidcity                   -0.002121\n",
       "regionidcounty                  0.000341\n",
       "regionidzip                    -0.006507\n",
       "roomcnt                         0.005760\n",
       "yearbuilt                       0.017312\n",
       "structuretaxvaluedollarcnt      0.022085\n",
       "taxvaluedollarcnt               0.006508\n",
       "assessmentyear                       NaN\n",
       "landtaxvaluedollarcnt          -0.003051\n",
       "taxamount                      -0.006671\n",
       "censustractandblock             0.008892\n",
       "logerror                        1.000000\n",
       "Name: logerror, dtype: float64"
      ]
     },
     "execution_count": 101,
     "metadata": {},
     "output_type": "execute_result"
    }
   ],
   "source": [
    "corr_df.logerror"
   ]
  },
  {
   "cell_type": "code",
   "execution_count": null,
   "metadata": {
    "collapsed": true
   },
   "outputs": [],
   "source": []
  },
  {
   "cell_type": "code",
   "execution_count": 99,
   "metadata": {
    "collapsed": false
   },
   "outputs": [
    {
     "ename": "ValueError",
     "evalue": "could not convert string to float: logerror",
     "output_type": "error",
     "traceback": [
      "\u001b[0;31m---------------------------------------------------------------------------\u001b[0m",
      "\u001b[0;31mValueError\u001b[0m                                Traceback (most recent call last)",
      "\u001b[0;32m<ipython-input-99-898d5b30b2cf>\u001b[0m in \u001b[0;36m<module>\u001b[0;34m()\u001b[0m\n\u001b[0;32m----> 1\u001b[0;31m \u001b[0mplt\u001b[0m\u001b[0;34m.\u001b[0m\u001b[0mplot\u001b[0m\u001b[0;34m(\u001b[0m\u001b[0mcorr_df\u001b[0m\u001b[0;34m.\u001b[0m\u001b[0mlogerror\u001b[0m\u001b[0;34m.\u001b[0m\u001b[0mdrop\u001b[0m\u001b[0;34m(\u001b[0m\u001b[0;34m[\u001b[0m\u001b[0;34m'assessmentyear'\u001b[0m\u001b[0;34m]\u001b[0m\u001b[0;34m,\u001b[0m \u001b[0maxis\u001b[0m \u001b[0;34m=\u001b[0m\u001b[0;36m0\u001b[0m\u001b[0;34m)\u001b[0m\u001b[0;34m)\u001b[0m\u001b[0;34m\u001b[0m\u001b[0m\n\u001b[0m",
      "\u001b[0;32m/anaconda/lib/python2.7/site-packages/matplotlib/pyplot.pyc\u001b[0m in \u001b[0;36mplot\u001b[0;34m(*args, **kwargs)\u001b[0m\n\u001b[1;32m   3315\u001b[0m                       mplDeprecation)\n\u001b[1;32m   3316\u001b[0m     \u001b[0;32mtry\u001b[0m\u001b[0;34m:\u001b[0m\u001b[0;34m\u001b[0m\u001b[0m\n\u001b[0;32m-> 3317\u001b[0;31m         \u001b[0mret\u001b[0m \u001b[0;34m=\u001b[0m \u001b[0max\u001b[0m\u001b[0;34m.\u001b[0m\u001b[0mplot\u001b[0m\u001b[0;34m(\u001b[0m\u001b[0;34m*\u001b[0m\u001b[0margs\u001b[0m\u001b[0;34m,\u001b[0m \u001b[0;34m**\u001b[0m\u001b[0mkwargs\u001b[0m\u001b[0;34m)\u001b[0m\u001b[0;34m\u001b[0m\u001b[0m\n\u001b[0m\u001b[1;32m   3318\u001b[0m     \u001b[0;32mfinally\u001b[0m\u001b[0;34m:\u001b[0m\u001b[0;34m\u001b[0m\u001b[0m\n\u001b[1;32m   3319\u001b[0m         \u001b[0max\u001b[0m\u001b[0;34m.\u001b[0m\u001b[0m_hold\u001b[0m \u001b[0;34m=\u001b[0m \u001b[0mwashold\u001b[0m\u001b[0;34m\u001b[0m\u001b[0m\n",
      "\u001b[0;32m/anaconda/lib/python2.7/site-packages/matplotlib/__init__.pyc\u001b[0m in \u001b[0;36minner\u001b[0;34m(ax, *args, **kwargs)\u001b[0m\n\u001b[1;32m   1896\u001b[0m                     warnings.warn(msg % (label_namer, func.__name__),\n\u001b[1;32m   1897\u001b[0m                                   RuntimeWarning, stacklevel=2)\n\u001b[0;32m-> 1898\u001b[0;31m             \u001b[0;32mreturn\u001b[0m \u001b[0mfunc\u001b[0m\u001b[0;34m(\u001b[0m\u001b[0max\u001b[0m\u001b[0;34m,\u001b[0m \u001b[0;34m*\u001b[0m\u001b[0margs\u001b[0m\u001b[0;34m,\u001b[0m \u001b[0;34m**\u001b[0m\u001b[0mkwargs\u001b[0m\u001b[0;34m)\u001b[0m\u001b[0;34m\u001b[0m\u001b[0m\n\u001b[0m\u001b[1;32m   1899\u001b[0m         \u001b[0mpre_doc\u001b[0m \u001b[0;34m=\u001b[0m \u001b[0minner\u001b[0m\u001b[0;34m.\u001b[0m\u001b[0m__doc__\u001b[0m\u001b[0;34m\u001b[0m\u001b[0m\n\u001b[1;32m   1900\u001b[0m         \u001b[0;32mif\u001b[0m \u001b[0mpre_doc\u001b[0m \u001b[0;32mis\u001b[0m \u001b[0mNone\u001b[0m\u001b[0;34m:\u001b[0m\u001b[0;34m\u001b[0m\u001b[0m\n",
      "\u001b[0;32m/anaconda/lib/python2.7/site-packages/matplotlib/axes/_axes.pyc\u001b[0m in \u001b[0;36mplot\u001b[0;34m(self, *args, **kwargs)\u001b[0m\n\u001b[1;32m   1405\u001b[0m \u001b[0;34m\u001b[0m\u001b[0m\n\u001b[1;32m   1406\u001b[0m         \u001b[0;32mfor\u001b[0m \u001b[0mline\u001b[0m \u001b[0;32min\u001b[0m \u001b[0mself\u001b[0m\u001b[0;34m.\u001b[0m\u001b[0m_get_lines\u001b[0m\u001b[0;34m(\u001b[0m\u001b[0;34m*\u001b[0m\u001b[0margs\u001b[0m\u001b[0;34m,\u001b[0m \u001b[0;34m**\u001b[0m\u001b[0mkwargs\u001b[0m\u001b[0;34m)\u001b[0m\u001b[0;34m:\u001b[0m\u001b[0;34m\u001b[0m\u001b[0m\n\u001b[0;32m-> 1407\u001b[0;31m             \u001b[0mself\u001b[0m\u001b[0;34m.\u001b[0m\u001b[0madd_line\u001b[0m\u001b[0;34m(\u001b[0m\u001b[0mline\u001b[0m\u001b[0;34m)\u001b[0m\u001b[0;34m\u001b[0m\u001b[0m\n\u001b[0m\u001b[1;32m   1408\u001b[0m             \u001b[0mlines\u001b[0m\u001b[0;34m.\u001b[0m\u001b[0mappend\u001b[0m\u001b[0;34m(\u001b[0m\u001b[0mline\u001b[0m\u001b[0;34m)\u001b[0m\u001b[0;34m\u001b[0m\u001b[0m\n\u001b[1;32m   1409\u001b[0m \u001b[0;34m\u001b[0m\u001b[0m\n",
      "\u001b[0;32m/anaconda/lib/python2.7/site-packages/matplotlib/axes/_base.pyc\u001b[0m in \u001b[0;36madd_line\u001b[0;34m(self, line)\u001b[0m\n\u001b[1;32m   1791\u001b[0m             \u001b[0mline\u001b[0m\u001b[0;34m.\u001b[0m\u001b[0mset_clip_path\u001b[0m\u001b[0;34m(\u001b[0m\u001b[0mself\u001b[0m\u001b[0;34m.\u001b[0m\u001b[0mpatch\u001b[0m\u001b[0;34m)\u001b[0m\u001b[0;34m\u001b[0m\u001b[0m\n\u001b[1;32m   1792\u001b[0m \u001b[0;34m\u001b[0m\u001b[0m\n\u001b[0;32m-> 1793\u001b[0;31m         \u001b[0mself\u001b[0m\u001b[0;34m.\u001b[0m\u001b[0m_update_line_limits\u001b[0m\u001b[0;34m(\u001b[0m\u001b[0mline\u001b[0m\u001b[0;34m)\u001b[0m\u001b[0;34m\u001b[0m\u001b[0m\n\u001b[0m\u001b[1;32m   1794\u001b[0m         \u001b[0;32mif\u001b[0m \u001b[0;32mnot\u001b[0m \u001b[0mline\u001b[0m\u001b[0;34m.\u001b[0m\u001b[0mget_label\u001b[0m\u001b[0;34m(\u001b[0m\u001b[0;34m)\u001b[0m\u001b[0;34m:\u001b[0m\u001b[0;34m\u001b[0m\u001b[0m\n\u001b[1;32m   1795\u001b[0m             \u001b[0mline\u001b[0m\u001b[0;34m.\u001b[0m\u001b[0mset_label\u001b[0m\u001b[0;34m(\u001b[0m\u001b[0;34m'_line%d'\u001b[0m \u001b[0;34m%\u001b[0m \u001b[0mlen\u001b[0m\u001b[0;34m(\u001b[0m\u001b[0mself\u001b[0m\u001b[0;34m.\u001b[0m\u001b[0mlines\u001b[0m\u001b[0;34m)\u001b[0m\u001b[0;34m)\u001b[0m\u001b[0;34m\u001b[0m\u001b[0m\n",
      "\u001b[0;32m/anaconda/lib/python2.7/site-packages/matplotlib/axes/_base.pyc\u001b[0m in \u001b[0;36m_update_line_limits\u001b[0;34m(self, line)\u001b[0m\n\u001b[1;32m   1813\u001b[0m         \u001b[0mFigures\u001b[0m \u001b[0mout\u001b[0m \u001b[0mthe\u001b[0m \u001b[0mdata\u001b[0m \u001b[0mlimit\u001b[0m \u001b[0mof\u001b[0m \u001b[0mthe\u001b[0m \u001b[0mgiven\u001b[0m \u001b[0mline\u001b[0m\u001b[0;34m,\u001b[0m \u001b[0mupdating\u001b[0m \u001b[0mself\u001b[0m\u001b[0;34m.\u001b[0m\u001b[0mdataLim\u001b[0m\u001b[0;34m.\u001b[0m\u001b[0;34m\u001b[0m\u001b[0m\n\u001b[1;32m   1814\u001b[0m         \"\"\"\n\u001b[0;32m-> 1815\u001b[0;31m         \u001b[0mpath\u001b[0m \u001b[0;34m=\u001b[0m \u001b[0mline\u001b[0m\u001b[0;34m.\u001b[0m\u001b[0mget_path\u001b[0m\u001b[0;34m(\u001b[0m\u001b[0;34m)\u001b[0m\u001b[0;34m\u001b[0m\u001b[0m\n\u001b[0m\u001b[1;32m   1816\u001b[0m         \u001b[0;32mif\u001b[0m \u001b[0mpath\u001b[0m\u001b[0;34m.\u001b[0m\u001b[0mvertices\u001b[0m\u001b[0;34m.\u001b[0m\u001b[0msize\u001b[0m \u001b[0;34m==\u001b[0m \u001b[0;36m0\u001b[0m\u001b[0;34m:\u001b[0m\u001b[0;34m\u001b[0m\u001b[0m\n\u001b[1;32m   1817\u001b[0m             \u001b[0;32mreturn\u001b[0m\u001b[0;34m\u001b[0m\u001b[0m\n",
      "\u001b[0;32m/anaconda/lib/python2.7/site-packages/matplotlib/lines.pyc\u001b[0m in \u001b[0;36mget_path\u001b[0;34m(self)\u001b[0m\n\u001b[1;32m    987\u001b[0m         \"\"\"\n\u001b[1;32m    988\u001b[0m         \u001b[0;32mif\u001b[0m \u001b[0mself\u001b[0m\u001b[0;34m.\u001b[0m\u001b[0m_invalidy\u001b[0m \u001b[0;32mor\u001b[0m \u001b[0mself\u001b[0m\u001b[0;34m.\u001b[0m\u001b[0m_invalidx\u001b[0m\u001b[0;34m:\u001b[0m\u001b[0;34m\u001b[0m\u001b[0m\n\u001b[0;32m--> 989\u001b[0;31m             \u001b[0mself\u001b[0m\u001b[0;34m.\u001b[0m\u001b[0mrecache\u001b[0m\u001b[0;34m(\u001b[0m\u001b[0;34m)\u001b[0m\u001b[0;34m\u001b[0m\u001b[0m\n\u001b[0m\u001b[1;32m    990\u001b[0m         \u001b[0;32mreturn\u001b[0m \u001b[0mself\u001b[0m\u001b[0;34m.\u001b[0m\u001b[0m_path\u001b[0m\u001b[0;34m\u001b[0m\u001b[0m\n\u001b[1;32m    991\u001b[0m \u001b[0;34m\u001b[0m\u001b[0m\n",
      "\u001b[0;32m/anaconda/lib/python2.7/site-packages/matplotlib/lines.pyc\u001b[0m in \u001b[0;36mrecache\u001b[0;34m(self, always)\u001b[0m\n\u001b[1;32m    674\u001b[0m                 \u001b[0mx\u001b[0m \u001b[0;34m=\u001b[0m \u001b[0mma\u001b[0m\u001b[0;34m.\u001b[0m\u001b[0masarray\u001b[0m\u001b[0;34m(\u001b[0m\u001b[0mxconv\u001b[0m\u001b[0;34m,\u001b[0m \u001b[0mnp\u001b[0m\u001b[0;34m.\u001b[0m\u001b[0mfloat_\u001b[0m\u001b[0;34m)\u001b[0m\u001b[0;34m.\u001b[0m\u001b[0mfilled\u001b[0m\u001b[0;34m(\u001b[0m\u001b[0mnp\u001b[0m\u001b[0;34m.\u001b[0m\u001b[0mnan\u001b[0m\u001b[0;34m)\u001b[0m\u001b[0;34m\u001b[0m\u001b[0m\n\u001b[1;32m    675\u001b[0m             \u001b[0;32melse\u001b[0m\u001b[0;34m:\u001b[0m\u001b[0;34m\u001b[0m\u001b[0m\n\u001b[0;32m--> 676\u001b[0;31m                 \u001b[0mx\u001b[0m \u001b[0;34m=\u001b[0m \u001b[0mnp\u001b[0m\u001b[0;34m.\u001b[0m\u001b[0masarray\u001b[0m\u001b[0;34m(\u001b[0m\u001b[0mxconv\u001b[0m\u001b[0;34m,\u001b[0m \u001b[0mnp\u001b[0m\u001b[0;34m.\u001b[0m\u001b[0mfloat_\u001b[0m\u001b[0;34m)\u001b[0m\u001b[0;34m\u001b[0m\u001b[0m\n\u001b[0m\u001b[1;32m    677\u001b[0m             \u001b[0mx\u001b[0m \u001b[0;34m=\u001b[0m \u001b[0mx\u001b[0m\u001b[0;34m.\u001b[0m\u001b[0mravel\u001b[0m\u001b[0;34m(\u001b[0m\u001b[0;34m)\u001b[0m\u001b[0;34m\u001b[0m\u001b[0m\n\u001b[1;32m    678\u001b[0m         \u001b[0;32melse\u001b[0m\u001b[0;34m:\u001b[0m\u001b[0;34m\u001b[0m\u001b[0m\n",
      "\u001b[0;32m/anaconda/lib/python2.7/site-packages/numpy/core/numeric.pyc\u001b[0m in \u001b[0;36masarray\u001b[0;34m(a, dtype, order)\u001b[0m\n\u001b[1;32m    480\u001b[0m \u001b[0;34m\u001b[0m\u001b[0m\n\u001b[1;32m    481\u001b[0m     \"\"\"\n\u001b[0;32m--> 482\u001b[0;31m     \u001b[0;32mreturn\u001b[0m \u001b[0marray\u001b[0m\u001b[0;34m(\u001b[0m\u001b[0ma\u001b[0m\u001b[0;34m,\u001b[0m \u001b[0mdtype\u001b[0m\u001b[0;34m,\u001b[0m \u001b[0mcopy\u001b[0m\u001b[0;34m=\u001b[0m\u001b[0mFalse\u001b[0m\u001b[0;34m,\u001b[0m \u001b[0morder\u001b[0m\u001b[0;34m=\u001b[0m\u001b[0morder\u001b[0m\u001b[0;34m)\u001b[0m\u001b[0;34m\u001b[0m\u001b[0m\n\u001b[0m\u001b[1;32m    483\u001b[0m \u001b[0;34m\u001b[0m\u001b[0m\n\u001b[1;32m    484\u001b[0m \u001b[0;32mdef\u001b[0m \u001b[0masanyarray\u001b[0m\u001b[0;34m(\u001b[0m\u001b[0ma\u001b[0m\u001b[0;34m,\u001b[0m \u001b[0mdtype\u001b[0m\u001b[0;34m=\u001b[0m\u001b[0mNone\u001b[0m\u001b[0;34m,\u001b[0m \u001b[0morder\u001b[0m\u001b[0;34m=\u001b[0m\u001b[0mNone\u001b[0m\u001b[0;34m)\u001b[0m\u001b[0;34m:\u001b[0m\u001b[0;34m\u001b[0m\u001b[0m\n",
      "\u001b[0;31mValueError\u001b[0m: could not convert string to float: logerror"
     ]
    },
    {
     "data": {
      "image/png": "[encoded data removed]",
      "text/plain": [
       "<matplotlib.figure.Figure at 0x1297156d0>"
      ]
     },
     "metadata": {},
     "output_type": "display_data"
    }
   ],
   "source": [
    "plt.plot(corr_df.logerror)"
   ]
  },
  {
   "cell_type": "markdown",
   "metadata": {},
   "source": [
    "Get info about sample_submission:"
   ]
  },
  {
   "cell_type": "code",
   "execution_count": 18,
   "metadata": {
    "collapsed": false
   },
   "outputs": [
    {
     "data": {
      "text/plain": [
       "(2985217, 7)"
      ]
     },
     "execution_count": 18,
     "metadata": {},
     "output_type": "execute_result"
    }
   ],
   "source": [
    "samplesubmission_df.shape"
   ]
  },
  {
   "cell_type": "code",
   "execution_count": 20,
   "metadata": {
    "collapsed": false
   },
   "outputs": [
    {
     "data": {
      "text/plain": [
       "Index([u'ParcelId', u'201610', u'201611', u'201612', u'201710', u'201711',\n",
       "       u'201712'],\n",
       "      dtype='object')"
      ]
     },
     "execution_count": 20,
     "metadata": {},
     "output_type": "execute_result"
    }
   ],
   "source": [
    "samplesubmission_df.columns"
   ]
  },
  {
   "cell_type": "code",
   "execution_count": 21,
   "metadata": {
    "collapsed": false
   },
   "outputs": [
    {
     "data": {
      "text/plain": [
       "ParcelId    int64\n",
       "201610      int64\n",
       "201611      int64\n",
       "201612      int64\n",
       "201710      int64\n",
       "201711      int64\n",
       "201712      int64\n",
       "dtype: object"
      ]
     },
     "execution_count": 21,
     "metadata": {},
     "output_type": "execute_result"
    }
   ],
   "source": [
    "samplesubmission_df.dtypes"
   ]
  },
  {
   "cell_type": "code",
   "execution_count": 23,
   "metadata": {
    "collapsed": false
   },
   "outputs": [
    {
     "data": {
      "text/html": [
       "<div>\n",
       "<table border=\"1\" class=\"dataframe\">\n",
       "  <thead>\n",
       "    <tr style=\"text-align: right;\">\n",
       "      <th></th>\n",
       "      <th>ParcelId</th>\n",
       "      <th>201610</th>\n",
       "      <th>201611</th>\n",
       "      <th>201612</th>\n",
       "      <th>201710</th>\n",
       "      <th>201711</th>\n",
       "      <th>201712</th>\n",
       "    </tr>\n",
       "  </thead>\n",
       "  <tbody>\n",
       "    <tr>\n",
       "      <th>count</th>\n",
       "      <td>2.985217e+06</td>\n",
       "      <td>2985217.0</td>\n",
       "      <td>2985217.0</td>\n",
       "      <td>2985217.0</td>\n",
       "      <td>2985217.0</td>\n",
       "      <td>2985217.0</td>\n",
       "      <td>2985217.0</td>\n",
       "    </tr>\n",
       "    <tr>\n",
       "      <th>mean</th>\n",
       "      <td>1.332586e+07</td>\n",
       "      <td>0.0</td>\n",
       "      <td>0.0</td>\n",
       "      <td>0.0</td>\n",
       "      <td>0.0</td>\n",
       "      <td>0.0</td>\n",
       "      <td>0.0</td>\n",
       "    </tr>\n",
       "    <tr>\n",
       "      <th>std</th>\n",
       "      <td>7.909966e+06</td>\n",
       "      <td>0.0</td>\n",
       "      <td>0.0</td>\n",
       "      <td>0.0</td>\n",
       "      <td>0.0</td>\n",
       "      <td>0.0</td>\n",
       "      <td>0.0</td>\n",
       "    </tr>\n",
       "    <tr>\n",
       "      <th>min</th>\n",
       "      <td>1.071172e+07</td>\n",
       "      <td>0.0</td>\n",
       "      <td>0.0</td>\n",
       "      <td>0.0</td>\n",
       "      <td>0.0</td>\n",
       "      <td>0.0</td>\n",
       "      <td>0.0</td>\n",
       "    </tr>\n",
       "    <tr>\n",
       "      <th>25%</th>\n",
       "      <td>1.164371e+07</td>\n",
       "      <td>0.0</td>\n",
       "      <td>0.0</td>\n",
       "      <td>0.0</td>\n",
       "      <td>0.0</td>\n",
       "      <td>0.0</td>\n",
       "      <td>0.0</td>\n",
       "    </tr>\n",
       "    <tr>\n",
       "      <th>50%</th>\n",
       "      <td>1.254509e+07</td>\n",
       "      <td>0.0</td>\n",
       "      <td>0.0</td>\n",
       "      <td>0.0</td>\n",
       "      <td>0.0</td>\n",
       "      <td>0.0</td>\n",
       "      <td>0.0</td>\n",
       "    </tr>\n",
       "    <tr>\n",
       "      <th>75%</th>\n",
       "      <td>1.409712e+07</td>\n",
       "      <td>0.0</td>\n",
       "      <td>0.0</td>\n",
       "      <td>0.0</td>\n",
       "      <td>0.0</td>\n",
       "      <td>0.0</td>\n",
       "      <td>0.0</td>\n",
       "    </tr>\n",
       "    <tr>\n",
       "      <th>max</th>\n",
       "      <td>1.696019e+08</td>\n",
       "      <td>0.0</td>\n",
       "      <td>0.0</td>\n",
       "      <td>0.0</td>\n",
       "      <td>0.0</td>\n",
       "      <td>0.0</td>\n",
       "      <td>0.0</td>\n",
       "    </tr>\n",
       "  </tbody>\n",
       "</table>\n",
       "</div>"
      ],
      "text/plain": [
       "           ParcelId     201610     201611     201612     201710     201711  \\\n",
       "count  2.985217e+06  2985217.0  2985217.0  2985217.0  2985217.0  2985217.0   \n",
       "mean   1.332586e+07        0.0        0.0        0.0        0.0        0.0   \n",
       "std    7.909966e+06        0.0        0.0        0.0        0.0        0.0   \n",
       "min    1.071172e+07        0.0        0.0        0.0        0.0        0.0   \n",
       "25%    1.164371e+07        0.0        0.0        0.0        0.0        0.0   \n",
       "50%    1.254509e+07        0.0        0.0        0.0        0.0        0.0   \n",
       "75%    1.409712e+07        0.0        0.0        0.0        0.0        0.0   \n",
       "max    1.696019e+08        0.0        0.0        0.0        0.0        0.0   \n",
       "\n",
       "          201712  \n",
       "count  2985217.0  \n",
       "mean         0.0  \n",
       "std          0.0  \n",
       "min          0.0  \n",
       "25%          0.0  \n",
       "50%          0.0  \n",
       "75%          0.0  \n",
       "max          0.0  "
      ]
     },
     "execution_count": 23,
     "metadata": {},
     "output_type": "execute_result"
    }
   ],
   "source": [
    "samplesubmission_df.describe()"
   ]
  },
  {
   "cell_type": "code",
   "execution_count": 26,
   "metadata": {
    "collapsed": false
   },
   "outputs": [
    {
     "data": {
      "text/html": [
       "<div>\n",
       "<table border=\"1\" class=\"dataframe\">\n",
       "  <thead>\n",
       "    <tr style=\"text-align: right;\">\n",
       "      <th></th>\n",
       "      <th>ParcelId</th>\n",
       "      <th>201610</th>\n",
       "      <th>201611</th>\n",
       "      <th>201612</th>\n",
       "      <th>201710</th>\n",
       "      <th>201711</th>\n",
       "      <th>201712</th>\n",
       "    </tr>\n",
       "  </thead>\n",
       "  <tbody>\n",
       "    <tr>\n",
       "      <th>0</th>\n",
       "      <td>10754147</td>\n",
       "      <td>0</td>\n",
       "      <td>0</td>\n",
       "      <td>0</td>\n",
       "      <td>0</td>\n",
       "      <td>0</td>\n",
       "      <td>0</td>\n",
       "    </tr>\n",
       "    <tr>\n",
       "      <th>1</th>\n",
       "      <td>10759547</td>\n",
       "      <td>0</td>\n",
       "      <td>0</td>\n",
       "      <td>0</td>\n",
       "      <td>0</td>\n",
       "      <td>0</td>\n",
       "      <td>0</td>\n",
       "    </tr>\n",
       "    <tr>\n",
       "      <th>2</th>\n",
       "      <td>10843547</td>\n",
       "      <td>0</td>\n",
       "      <td>0</td>\n",
       "      <td>0</td>\n",
       "      <td>0</td>\n",
       "      <td>0</td>\n",
       "      <td>0</td>\n",
       "    </tr>\n",
       "  </tbody>\n",
       "</table>\n",
       "</div>"
      ],
      "text/plain": [
       "   ParcelId  201610  201611  201612  201710  201711  201712\n",
       "0  10754147       0       0       0       0       0       0\n",
       "1  10759547       0       0       0       0       0       0\n",
       "2  10843547       0       0       0       0       0       0"
      ]
     },
     "execution_count": 26,
     "metadata": {},
     "output_type": "execute_result"
    }
   ],
   "source": [
    "samplesubmission_df.head(3)"
   ]
  },
  {
   "cell_type": "code",
   "execution_count": null,
   "metadata": {
    "collapsed": true
   },
   "outputs": [],
   "source": []
  }
 ],
 "metadata": {
  "kernelspec": {
   "display_name": "Python 2",
   "language": "python",
   "name": "python2"
  },
  "language_info": {
   "codemirror_mode": {
    "name": "ipython",
    "version": 2
   },
   "file_extension": ".py",
   "mimetype": "text/x-python",
   "name": "python",
   "nbconvert_exporter": "python",
   "pygments_lexer": "ipython2",
   "version": "2.7.13"
  }
 },
 "nbformat": 4,
 "nbformat_minor": 2
}
